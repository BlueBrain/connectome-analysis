{
 "cells": [
  {
   "cell_type": "markdown",
   "id": "ee37f37e",
   "metadata": {},
   "source": [
    "# Example notebook for generating random models using package generateModel\n",
    "\n",
    "Models included are: \n",
    "*Erdos Renyi, \n",
    "*Stochastic Block Model, \n",
    "*Distance Dependant (2nd order), \n",
    "*Distance Dependant (3rd order)\n",
    "\n",
    "Output of all functions is a matrix in coo format stored as a dictionary with two entries ['row'] and ['col']\n",
    "\n",
    "Install with \"pip install .\", requires cmake>=2.8.12 and gcc>=(not sure TODO)"
   ]
  },
  {
   "cell_type": "code",
   "execution_count": 1,
   "id": "cf469f69",
   "metadata": {},
   "outputs": [],
   "source": [
    "import generateModel as gm\n",
    "import numpy as np\n",
    "import pandas"
   ]
  },
  {
   "cell_type": "markdown",
   "id": "3f0e0277",
   "metadata": {},
   "source": [
    "## Run on random 100 vertex examples"
   ]
  },
  {
   "cell_type": "code",
   "execution_count": 2,
   "id": "2958207a",
   "metadata": {},
   "outputs": [],
   "source": [
    "#Erdos-Renyi model:\n",
    "#Input: n, p, threads\n",
    "#    n = number of vertices (int)\n",
    "#    p = edge probability (double)\n",
    "#    threads = number of threads to use (int)\n",
    "#Example\n",
    "n = 100\n",
    "p = 0.5\n",
    "threads = 8\n",
    "A = gm.ER(n,p,threads)"
   ]
  },
  {
   "cell_type": "code",
   "execution_count": 3,
   "id": "9fad20ce",
   "metadata": {},
   "outputs": [],
   "source": [
    "#Stochastic Block Model model:\n",
    "#Input: n, pathways, mtypes, threads\n",
    "#    n = number of vertices (int)\n",
    "#    M = M[i][j] entry is probability of edge between mtype i and mtype j (numpy array, shape=(m,m), dtype=float64), where m is number of mtypes\n",
    "#    mtypes = i'th entry is mtype of vertex i (numpy array, shape=(n,), dtype=uint8)\n",
    "#    threads = number of threads to use (int)\n",
    "#Example\n",
    "n = 100\n",
    "m = 10\n",
    "pathways = np.random.rand(m,m)\n",
    "mtypes = np.random.randint(m,size=(n,))\n",
    "threads = 8\n",
    "\n",
    "B = gm.SBM(n, pathways, mtypes, threads)"
   ]
  },
  {
   "cell_type": "code",
   "execution_count": 4,
   "id": "7ff5314d",
   "metadata": {},
   "outputs": [],
   "source": [
    "#Distance Dependant 2nd Order:\n",
    "#Input: n, a, b, xyz, threads\n",
    "#    n = number of vertices (int)\n",
    "#    a = coefficient of probability function (double)\n",
    "#    b = coefficient of probability function (double)\n",
    "#    xyz = the coordinates of the vertices, (numpy array, shape=(n,3), dtype=float64)\n",
    "#    threads = number of threads to use (int)\n",
    "#Example\n",
    "n = 100\n",
    "a = 0.085\n",
    "b = -0.005\n",
    "xyz = np.random.rand(n,3)\n",
    "threads = 8\n",
    "\n",
    "C = gm.DD2(n,a,b,xyz,threads)"
   ]
  },
  {
   "cell_type": "code",
   "execution_count": 5,
   "id": "e2551616",
   "metadata": {},
   "outputs": [],
   "source": [
    "#Distance Dependant 3rd Order:\n",
    "#Input: n, a, b, xyz, threads\n",
    "#    n = number of vertices (int)\n",
    "#    a1 = coefficient of probability function for dz<0 (double)\n",
    "#    b1 = coefficient of probability function for dz<0 (double)\n",
    "#    a2 = coefficient of probability function for dz>0 (double)\n",
    "#    b2 = coefficient of probability function for dz>0 (double)\n",
    "#    xyz = the coordinates of the vertices, (numpy array, shape=(n,3), dtype=float64)\n",
    "#    depths = i'th entry is depth of vertex i (numpy array, shape=(n,), dtype=float64)\n",
    "#    threads = number of threads to use (int)\n",
    "#Example\n",
    "n = 100\n",
    "a1 = 0.089\n",
    "b1 = -0.003\n",
    "a2 = 0.091\n",
    "b2 = -0.008\n",
    "xyz = np.random.rand(n,3)\n",
    "depths = np.random.rand(n)\n",
    "threads = 8\n",
    "\n",
    "D = gm.DD3(n,a1,b1,a2,b2,xyz,depths,threads)"
   ]
  },
  {
   "cell_type": "markdown",
   "id": "ed6289fc",
   "metadata": {},
   "source": [
    "## Run on full SSCX\n",
    "Below are examples of how to run the above models on the full SSCX21_BioM circuit"
   ]
  },
  {
   "cell_type": "code",
   "execution_count": null,
   "id": "8aa39e01",
   "metadata": {},
   "outputs": [],
   "source": [
    "#load data\n",
    "neurons_address = \"/gpfs/bbp.cscs.ch/project/proj102/matrices/SSCX21_BioM/neuron_info.feather\"\n",
    "neurons = pandas.read_feather(neurons_address)\n",
    "\n",
    "n = len(neurons)\n",
    "num_edges = len(np.load('local_connectivityindices.npy'))\n",
    "p = num_edges/(n*(n-1))\n",
    "\n",
    "xyz = np.array(neurons[['x','y','z']])\n",
    "depths = np.array(neurons['depth'])\n",
    "\n",
    "#convert mtypes from string to integer\n",
    "num_mtype = len(neurons['mtype'].cat.categories)\n",
    "mtype_lookup = {neurons['mtype'].cat.categories[i]:i for i in range(len(num_mtype))}\n",
    "mtypes = [mtype_lookup[neurons['mtype'].iloc[i]] for i in range(n)]\n",
    "\n",
    "pathways = np.random.rand(num_mtype,num_mtype) #Using random pathway probability for now\n",
    "\n",
    "a = 0.085\n",
    "b = -0.005\n",
    "a1 = 0.089\n",
    "b1 = -0.003\n",
    "a2 = 0.091\n",
    "b2 = -0.008\n",
    "threads = 40"
   ]
  },
  {
   "cell_type": "code",
   "execution_count": null,
   "id": "841e463d",
   "metadata": {},
   "outputs": [],
   "source": [
    "#Run the models\n",
    "SSCX_ER = gm.ER(n,p,threads)\n",
    "SSCX_SBM = gm.SBM(n, pathways, mtypes, threads)\n",
    "SSCX_DD2 = gm.DD2(n,a,b,xyz,threads)\n",
    "SSCX_DD3 = gm.DD3(n,a1,b1,a2,b2,xyz,depths,threads)"
   ]
  }
 ],
 "metadata": {
  "kernelspec": {
   "display_name": "Python 3 (ipykernel)",
   "language": "python",
   "name": "python3"
  },
  "language_info": {
   "codemirror_mode": {
    "name": "ipython",
    "version": 3
   },
   "file_extension": ".py",
   "mimetype": "text/x-python",
   "name": "python",
   "nbconvert_exporter": "python",
   "pygments_lexer": "ipython3",
   "version": "3.8.10"
  }
 },
 "nbformat": 4,
 "nbformat_minor": 5
}
