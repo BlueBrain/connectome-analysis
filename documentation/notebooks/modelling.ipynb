{
 "cells": [
  {
   "cell_type": "markdown",
   "metadata": {},
   "source": [
    "# Example notebook for connectome model building\n",
    "### ▶️ Related ticket: __[SSCXDIS-530](https://bbpteam.epfl.ch/project/issues/browse/SSCXDIS-530)__\n",
    "This is an example notebook demonstrating model building on a toy data set, which\n",
    " - loads connectome data\n",
    " - creates a data-based model\n",
    " - visualizes data vs. model\n",
    "\n",
    "> **NOTE:** Modelling code based on the `model_building` pipeline from the [connectome_manipulator](https://bbpgitlab.epfl.ch/conn/structural/connectome_manipulator) package (v0.0.1.dev0)!"
   ]
  },
  {
   "cell_type": "code",
   "execution_count": null,
   "metadata": {},
   "outputs": [],
   "source": []
  }
 ],
 "metadata": {
  "kernelspec": {
   "display_name": "ToposampleKernel",
   "language": "python",
   "name": "toposamplekernel"
  },
  "language_info": {
   "codemirror_mode": {
    "name": "ipython",
    "version": 3
   },
   "file_extension": ".py",
   "mimetype": "text/x-python",
   "name": "python",
   "nbconvert_exporter": "python",
   "pygments_lexer": "ipython3",
   "version": "3.7.4"
  }
 },
 "nbformat": 4,
 "nbformat_minor": 4
}
