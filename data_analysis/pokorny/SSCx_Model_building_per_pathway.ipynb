{
 "cells": [
  {
   "cell_type": "markdown",
   "metadata": {},
   "source": [
    "# Per-pathway connection probability model building of the whole SSCx circuit\n",
    "## Preparation of neuron tables and adjacency matrices per pathway"
   ]
  },
  {
   "cell_type": "code",
   "execution_count": 1,
   "metadata": {},
   "outputs": [],
   "source": [
    "# Global imports\n",
    "import numpy as np\n",
    "import pandas as pd\n",
    "import matplotlib.pyplot as plt\n",
    "import scipy.sparse as sps\n",
    "import os\n",
    "import sys\n",
    "import logging\n",
    "import pickle\n",
    "import progressbar\n",
    "\n",
    "# Local imports\n",
    "sys.path.append('../../library')\n",
    "import modelling"
   ]
  },
  {
   "cell_type": "code",
   "execution_count": 2,
   "metadata": {},
   "outputs": [],
   "source": [
    "save_path = './modelling'\n",
    "if not os.path.exists(save_path):\n",
    "    os.makedirs(save_path)"
   ]
  },
  {
   "cell_type": "code",
   "execution_count": null,
   "metadata": {},
   "outputs": [],
   "source": []
  },
  {
   "cell_type": "markdown",
   "metadata": {},
   "source": [
    "### Mid-range connectivity"
   ]
  },
  {
   "cell_type": "code",
   "execution_count": 45,
   "metadata": {},
   "outputs": [],
   "source": [
    "data_path = '/gpfs/bbp.cscs.ch/project/proj102/scratch/SSCX_BioM/matrices'\n",
    "conn_fn = 'intra_SSCX_midrange_wm.npz'\n",
    "nrn_fn = 'neuron_info_extended.feather'\n",
    "conn_type = 'midrange'"
   ]
  },
  {
   "cell_type": "code",
   "execution_count": 3,
   "metadata": {},
   "outputs": [
    {
     "name": "stdout",
     "output_type": "stream",
     "text": [
      "INFO: Loaded connectivity and properties of 4234929 neurons\n"
     ]
    }
   ],
   "source": [
    "# Load connectivity matrix and neuron table\n",
    "adj_matrix = sps.load_npz(os.path.join(data_path, conn_fn))\n",
    "nrn_table = pd.read_feather(os.path.join(data_path, nrn_fn))\n",
    "assert adj_matrix.shape[0] == adj_matrix.shape[1] == nrn_table.shape[0], 'ERROR: Data size mismatch!'\n",
    "print(f'INFO: Loaded connectivity and properties of {nrn_table.shape[0]} neurons')"
   ]
  },
  {
   "cell_type": "code",
   "execution_count": null,
   "metadata": {},
   "outputs": [],
   "source": []
  },
  {
   "cell_type": "code",
   "execution_count": 106,
   "metadata": {},
   "outputs": [
    {
     "name": "stdout",
     "output_type": "stream",
     "text": [
      "Found 60 m-types: L1_DAC, ..., L6_UPC\n"
     ]
    },
    {
     "name": "stderr",
     "output_type": "stream",
     "text": [
      "100% |########################################################################|\n"
     ]
    }
   ],
   "source": [
    "# Extract neuron tables per m-type\n",
    "nrn_path = os.path.join(save_path, 'nrn_tables', conn_type)\n",
    "if not os.path.exists(nrn_path):\n",
    "    os.makedirs(nrn_path)\n",
    "\n",
    "mtypes = np.unique(nrn_table['mtype'])\n",
    "print(f'Found {len(mtypes)} m-types: {mtypes[0]}, ..., {mtypes[-1]}', flush=True)\n",
    "np.save(os.path.join(nrn_path, 'mtypes.npy'), mtypes.astype(str))\n",
    "\n",
    "pbar = progressbar.ProgressBar()\n",
    "for idx in pbar(range(len(mtypes))):\n",
    "    nrn_table_sel = nrn_table[nrn_table['mtype'] == mtypes[idx]]\n",
    "    nrn_table_sel.reset_index().to_feather(os.path.join(nrn_path, f'nrn_info__{mtypes[idx]}.feather'))\n"
   ]
  },
  {
   "cell_type": "code",
   "execution_count": 61,
   "metadata": {},
   "outputs": [
    {
     "name": "stdout",
     "output_type": "stream",
     "text": [
      "Found 60 m-types: L1_DAC, ..., L6_UPC\n"
     ]
    },
    {
     "name": "stderr",
     "output_type": "stream",
     "text": [
      "100% |########################################################################|\n"
     ]
    }
   ],
   "source": [
    "# Extract sub-matrices per pathway (PRE m-types x POST m-types)\n",
    "mat_path = os.path.join(save_path, 'adj_matrices', conn_type)\n",
    "if not os.path.exists(mat_path):\n",
    "    os.makedirs(mat_path)\n",
    "\n",
    "adj_sizes = np.full((len(mtypes), len(mtypes), 2), -1)\n",
    "conn_counts = np.full((len(mtypes), len(mtypes)), -1)\n",
    "\n",
    "pbar = progressbar.ProgressBar()\n",
    "for src_idx in pbar(range(len(mtypes))):\n",
    "    nrn_sel_src = nrn_table[nrn_table['mtype'] == mtypes[src_idx]].index\n",
    "    for tgt_idx in range(len(mtypes)):\n",
    "        nrn_sel_tgt = nrn_table[nrn_table['mtype'] == mtypes[tgt_idx]].index\n",
    "        adj_matrix_pathway = adj_matrix[nrn_sel_src, :][:, nrn_sel_tgt]\n",
    "\n",
    "        adj_sizes[src_idx, tgt_idx, :] = adj_matrix_pathway.shape\n",
    "        conn_counts[src_idx, tgt_idx] = adj_matrix_pathway.count_nonzero()\n",
    "\n",
    "        sps.save_npz(os.path.join(mat_path, f'adj_mat__{mtypes[src_idx]}-{mtypes[tgt_idx]}'), adj_matrix_pathway)\n",
    "\n",
    "np.save(os.path.join(mat_path, 'adj_sizes.npy'), adj_sizes)\n",
    "np.save(os.path.join(mat_path, 'conn_counts.npy'), conn_counts)"
   ]
  },
  {
   "cell_type": "code",
   "execution_count": 79,
   "metadata": {},
   "outputs": [
    {
     "name": "stdout",
     "output_type": "stream",
     "text": [
      "INFO: Counts OK!\n"
     ]
    }
   ],
   "source": [
    "# Check counts\n",
    "assert np.sum(conn_counts == -1) == 0, 'ERROR: Connection counts missing!'\n",
    "assert np.sum(adj_sizes == -1) == 0, 'ERROR: Matrix sizes missing!'\n",
    "assert np.sum(conn_counts) == adj_matrix.count_nonzero(), 'ERROR: Connection count mismatch!'\n",
    "assert np.sum(np.prod(adj_sizes, 2)) == np.prod(adj_matrix.shape), 'ERROR: Matrix size mismatch!'\n",
    "print('INFO: Counts OK!')"
   ]
  },
  {
   "cell_type": "code",
   "execution_count": 213,
   "metadata": {},
   "outputs": [
    {
     "data": {
      "image/png": "[encoded data removed]",
      "text/plain": [
       "<Figure size 720x216 with 5 Axes>"
      ]
     },
     "metadata": {
      "needs_background": "light"
     },
     "output_type": "display_data"
    }
   ],
   "source": [
    "# Show matrix sizes and connection counts\n",
    "size_lim = 200000**2 # Size limit tested successfully\n",
    "plt.figure(figsize=(10, 3))\n",
    "plt.subplot(1, 3, 1)\n",
    "plt.imshow(np.prod(adj_sizes, 2), interpolation='nearest')\n",
    "plt.xlabel('M-Type')\n",
    "plt.ylabel('M-Type')\n",
    "plt.title('Matrix sizes', fontweight='bold')\n",
    "plt.colorbar()\n",
    "plt.subplot(1, 3, 2)\n",
    "plt.hist(np.prod(adj_sizes, 2).flatten(), bins=100, log=True, label='No conns')\n",
    "plt.hist(np.prod(adj_sizes, 2)[conn_counts > 0].flatten(), bins=100, log=True, label='Conns')\n",
    "# size_hist = np.histogram(np.prod(adj_sizes, 2), bins=100)\n",
    "# step_size = np.min(np.diff(size_hist[1]))\n",
    "# # plt.plot(size_hist[1][1:] - step_size, size_hist[0])\n",
    "# plt.plot(size_hist[1][1:] - step_size, np.cumsum(size_hist[0]))\n",
    "plt.ylim(plt.ylim()) # Freeze limit\n",
    "plt.plot([size_lim] * 2, plt.ylim(), '--r', zorder=0)\n",
    "plt.xlabel('Matrix size')\n",
    "plt.ylabel('Count')\n",
    "plt.title('Matrix size distribution', fontweight='bold')\n",
    "plt.legend()\n",
    "plt.subplot(1, 3, 3)\n",
    "plt.imshow(conn_counts, interpolation='nearest')\n",
    "plt.xlabel('M-Type')\n",
    "plt.ylabel('M-Type')\n",
    "plt.title('Connection counts', fontweight='bold')\n",
    "plt.colorbar()\n",
    "plt.tight_layout()\n",
    "plt.show()"
   ]
  },
  {
   "cell_type": "code",
   "execution_count": 221,
   "metadata": {},
   "outputs": [
    {
     "name": "stdout",
     "output_type": "stream",
     "text": [
      "Max. size: L3_TPC:A-L3_TPC:A: 453858x453858 = 205987084164\n",
      "Max. conn. count: L4_TPC-L5_TPC:A: 58568344\n",
      "Pathways w/o connections: 2520 of 3600 (70.0%)\n"
     ]
    }
   ],
   "source": [
    "max_idx = np.unravel_index(np.argmax(np.prod(adj_sizes, 2)), adj_sizes.shape[:2])\n",
    "print(f'Max. size: {mtypes[max_idx[0]]}-{mtypes[max_idx[1]]}: {adj_sizes[max_idx[0], max_idx[1], 0]}x{adj_sizes[max_idx[0], max_idx[1], 1]} = {np.prod(adj_sizes[max_idx[0], max_idx[1], :])}')\n",
    "\n",
    "max_idx = np.unravel_index(np.argmax(conn_counts), adj_sizes.shape[:2])\n",
    "print(f'Max. conn. count: {mtypes[max_idx[0]]}-{mtypes[max_idx[1]]}: {conn_counts[max_idx[0], max_idx[1]]}')\n",
    "\n",
    "print(f'Pathways w/o connections: {np.sum(conn_counts == 0)} of {np.sum(conn_counts >= 0)} ({100 * np.sum(conn_counts == 0) / np.sum(conn_counts >= 0)}%)')"
   ]
  },
  {
   "cell_type": "code",
   "execution_count": null,
   "metadata": {},
   "outputs": [],
   "source": []
  },
  {
   "cell_type": "code",
   "execution_count": 224,
   "metadata": {},
   "outputs": [
    {
     "name": "stderr",
     "output_type": "stream",
     "text": [
      "100% |########################################################################|\n"
     ]
    }
   ],
   "source": [
    "# Extract sub-matrices per pathway (PRE m-types x All POST)\n",
    "mat_path = os.path.join(save_path, 'adj_matrices', conn_type)\n",
    "if not os.path.exists(mat_path):\n",
    "    os.makedirs(mat_path)\n",
    "\n",
    "adj_sizes = np.full((len(mtypes), 2), -1)\n",
    "conn_counts = np.full(len(mtypes), -1)\n",
    "\n",
    "pbar = progressbar.ProgressBar()\n",
    "for src_idx in pbar(range(len(mtypes))):\n",
    "    nrn_sel_src = nrn_table[nrn_table['mtype'] == mtypes[src_idx]].index\n",
    "    adj_matrix_pathway = adj_matrix[nrn_sel_src, :]\n",
    "\n",
    "    adj_sizes[src_idx, :] = adj_matrix_pathway.shape\n",
    "    conn_counts[src_idx] = adj_matrix_pathway.count_nonzero()\n",
    "\n",
    "    sps.save_npz(os.path.join(mat_path, f'adj_mat__{mtypes[src_idx]}-ALL'), adj_matrix_pathway)\n",
    "\n",
    "np.save(os.path.join(mat_path, 'adj_sizes_PRE.npy'), adj_sizes)\n",
    "np.save(os.path.join(mat_path, 'conn_counts_PRE.npy'), conn_counts)"
   ]
  },
  {
   "cell_type": "code",
   "execution_count": 227,
   "metadata": {},
   "outputs": [
    {
     "name": "stdout",
     "output_type": "stream",
     "text": [
      "Max. size: L3_TPC:A-ALL: 453858x4234929 = 1922056406082\n",
      "Max. conn. count: L4_TPC-ALL: 385285691\n",
      "Pathways w/o connections: 42 of 60 (70.0%)\n"
     ]
    }
   ],
   "source": [
    "max_idx = np.argmax(np.prod(adj_sizes, 1))\n",
    "print(f'Max. size: {mtypes[max_idx]}-ALL: {adj_sizes[max_idx, 0]}x{adj_sizes[max_idx, 1]} = {np.prod(adj_sizes[max_idx, :])}')\n",
    "\n",
    "max_idx = np.argmax(conn_counts)\n",
    "print(f'Max. conn. count: {mtypes[max_idx]}-ALL: {conn_counts[max_idx]}')\n",
    "\n",
    "print(f'Pathways w/o connections: {np.sum(conn_counts == 0)} of {np.sum(conn_counts >= 0)} ({100 * np.sum(conn_counts == 0) / np.sum(conn_counts >= 0)}%)')"
   ]
  },
  {
   "cell_type": "code",
   "execution_count": 229,
   "metadata": {},
   "outputs": [
    {
     "data": {
      "image/png": "[encoded data removed]",
      "text/plain": [
       "<Figure size 720x216 with 3 Axes>"
      ]
     },
     "metadata": {
      "needs_background": "light"
     },
     "output_type": "display_data"
    }
   ],
   "source": [
    "# Show matrix sizes and connection counts\n",
    "plt.figure(figsize=(10, 3))\n",
    "plt.subplot(1, 3, 1)\n",
    "plt.bar(np.arange(len(mtypes)), np.prod(adj_sizes, 1), label='No conns')\n",
    "plt.bar(np.arange(len(mtypes))[conn_counts > 0], np.prod(adj_sizes, 1)[conn_counts > 0], label='Conns')\n",
    "plt.xlabel('M-Type')\n",
    "plt.ylabel('Matrix size')\n",
    "plt.title('Matrix sizes', fontweight='bold')\n",
    "plt.subplot(1, 3, 2)\n",
    "plt.hist(np.prod(adj_sizes, 1), bins=100, log=False, label='No conns')\n",
    "plt.hist(np.prod(adj_sizes, 1)[conn_counts > 0], bins=100, log=False, label='Conns')\n",
    "plt.ylim(plt.ylim()) # Freeze limit\n",
    "plt.plot([size_lim] * 2, plt.ylim(), '--r', zorder=0)\n",
    "plt.xlabel('Matrix size')\n",
    "plt.ylabel('Count')\n",
    "plt.title('Matrix size distribution', fontweight='bold')\n",
    "plt.legend()\n",
    "plt.subplot(1, 3, 3)\n",
    "plt.bar(np.arange(len(mtypes)), conn_counts)\n",
    "plt.bar(np.arange(len(mtypes)), conn_counts)\n",
    "plt.xlabel('M-Type')\n",
    "plt.ylabel('Conn. count')\n",
    "plt.title('Connection counts', fontweight='bold')\n",
    "plt.tight_layout()\n",
    "plt.show()"
   ]
  },
  {
   "cell_type": "code",
   "execution_count": null,
   "metadata": {},
   "outputs": [],
   "source": []
  },
  {
   "cell_type": "markdown",
   "metadata": {},
   "source": [
    "### Local connectivity"
   ]
  },
  {
   "cell_type": "code",
   "execution_count": 3,
   "metadata": {},
   "outputs": [],
   "source": [
    "data_path = '/gpfs/bbp.cscs.ch/project/proj102/scratch/SSCX_BioM/matrices'\n",
    "conn_fn = 'local_connectivity.npz'\n",
    "nrn_fn = 'neuron_info.feather'\n",
    "conn_type = 'local'"
   ]
  },
  {
   "cell_type": "code",
   "execution_count": 4,
   "metadata": {},
   "outputs": [
    {
     "name": "stdout",
     "output_type": "stream",
     "text": [
      "INFO: Loaded connectivity and properties of 4234929 neurons\n"
     ]
    }
   ],
   "source": [
    "# Load connectivity matrix and neuron table\n",
    "adj_matrix = sps.load_npz(os.path.join(data_path, conn_fn))\n",
    "nrn_table = pd.read_feather(os.path.join(data_path, nrn_fn))\n",
    "assert adj_matrix.shape[0] == adj_matrix.shape[1] == nrn_table.shape[0], 'ERROR: Data size mismatch!'\n",
    "print(f'INFO: Loaded connectivity and properties of {nrn_table.shape[0]} neurons')"
   ]
  },
  {
   "cell_type": "code",
   "execution_count": 6,
   "metadata": {},
   "outputs": [
    {
     "name": "stdout",
     "output_type": "stream",
     "text": [
      "Found 60 m-types: L1_DAC, ..., L6_UPC\n"
     ]
    },
    {
     "name": "stderr",
     "output_type": "stream",
     "text": [
      "100% |########################################################################|\n"
     ]
    }
   ],
   "source": [
    "# Extract neuron tables per m-type\n",
    "nrn_path = os.path.join(save_path, 'nrn_tables', conn_type)\n",
    "if not os.path.exists(nrn_path):\n",
    "    os.makedirs(nrn_path)\n",
    "\n",
    "mtypes = np.unique(nrn_table['mtype'])\n",
    "print(f'Found {len(mtypes)} m-types: {mtypes[0]}, ..., {mtypes[-1]}', flush=True)\n",
    "np.save(os.path.join(nrn_path, 'mtypes.npy'), mtypes.astype(str))\n",
    "\n",
    "pbar = progressbar.ProgressBar()\n",
    "for idx in pbar(range(len(mtypes))):\n",
    "    nrn_table_sel = nrn_table[nrn_table['mtype'] == mtypes[idx]]\n",
    "    nrn_table_sel.reset_index().to_feather(os.path.join(nrn_path, f'nrn_info__{mtypes[idx]}.feather'))"
   ]
  },
  {
   "cell_type": "code",
   "execution_count": null,
   "metadata": {},
   "outputs": [],
   "source": []
  },
  {
   "cell_type": "code",
   "execution_count": 7,
   "metadata": {},
   "outputs": [
    {
     "name": "stderr",
     "output_type": "stream",
     "text": [
      "100% |########################################################################|\n"
     ]
    }
   ],
   "source": [
    "# Extract sub-matrices per pathway (PRE m-types x All POST)\n",
    "mat_path = os.path.join(save_path, 'adj_matrices', conn_type)\n",
    "if not os.path.exists(mat_path):\n",
    "    os.makedirs(mat_path)\n",
    "\n",
    "adj_sizes = np.full((len(mtypes), 2), -1)\n",
    "conn_counts = np.full(len(mtypes), -1)\n",
    "\n",
    "pbar = progressbar.ProgressBar()\n",
    "for src_idx in pbar(range(len(mtypes))):\n",
    "    nrn_sel_src = nrn_table[nrn_table['mtype'] == mtypes[src_idx]].index\n",
    "    adj_matrix_pathway = adj_matrix[nrn_sel_src, :]\n",
    "\n",
    "    adj_sizes[src_idx, :] = adj_matrix_pathway.shape\n",
    "    conn_counts[src_idx] = adj_matrix_pathway.count_nonzero()\n",
    "\n",
    "    sps.save_npz(os.path.join(mat_path, f'adj_mat__{mtypes[src_idx]}-ALL'), adj_matrix_pathway)\n",
    "\n",
    "np.save(os.path.join(mat_path, 'adj_sizes_PRE.npy'), adj_sizes)\n",
    "np.save(os.path.join(mat_path, 'conn_counts_PRE.npy'), conn_counts)"
   ]
  },
  {
   "cell_type": "code",
   "execution_count": 8,
   "metadata": {},
   "outputs": [
    {
     "name": "stdout",
     "output_type": "stream",
     "text": [
      "Max. size: L3_TPC:A-ALL: 453858x4234929 = 1922056406082\n",
      "Max. conn. count: L3_TPC:A-ALL: 291308690\n",
      "Pathways w/o connections: 0 of 60 (0.0%)\n"
     ]
    }
   ],
   "source": [
    "max_idx = np.argmax(np.prod(adj_sizes, 1))\n",
    "print(f'Max. size: {mtypes[max_idx]}-ALL: {adj_sizes[max_idx, 0]}x{adj_sizes[max_idx, 1]} = {np.prod(adj_sizes[max_idx, :])}')\n",
    "\n",
    "max_idx = np.argmax(conn_counts)\n",
    "print(f'Max. conn. count: {mtypes[max_idx]}-ALL: {conn_counts[max_idx]}')\n",
    "\n",
    "print(f'Pathways w/o connections: {np.sum(conn_counts == 0)} of {np.sum(conn_counts >= 0)} ({100 * np.sum(conn_counts == 0) / np.sum(conn_counts >= 0)}%)')"
   ]
  },
  {
   "cell_type": "code",
   "execution_count": 10,
   "metadata": {},
   "outputs": [
    {
     "data": {
      "image/png": "[encoded data removed]",
      "text/plain": [
       "<Figure size 720x216 with 3 Axes>"
      ]
     },
     "metadata": {
      "needs_background": "light"
     },
     "output_type": "display_data"
    }
   ],
   "source": [
    "# Show matrix sizes and connection counts\n",
    "size_lim = 200000**2 # Size limit tested successfully\n",
    "plt.figure(figsize=(10, 3))\n",
    "plt.subplot(1, 3, 1)\n",
    "plt.bar(np.arange(len(mtypes)), np.prod(adj_sizes, 1), label='No conns')\n",
    "plt.bar(np.arange(len(mtypes))[conn_counts > 0], np.prod(adj_sizes, 1)[conn_counts > 0], label='Conns')\n",
    "plt.xlabel('M-Type')\n",
    "plt.ylabel('Matrix size')\n",
    "plt.title('Matrix sizes', fontweight='bold')\n",
    "plt.subplot(1, 3, 2)\n",
    "plt.hist(np.prod(adj_sizes, 1), bins=100, log=False, label='No conns')\n",
    "plt.hist(np.prod(adj_sizes, 1)[conn_counts > 0], bins=100, log=False, label='Conns')\n",
    "plt.ylim(plt.ylim()) # Freeze limit\n",
    "plt.plot([size_lim] * 2, plt.ylim(), '--r', zorder=0)\n",
    "plt.xlabel('Matrix size')\n",
    "plt.ylabel('Count')\n",
    "plt.title('Matrix size distribution', fontweight='bold')\n",
    "plt.legend()\n",
    "plt.subplot(1, 3, 3)\n",
    "plt.bar(np.arange(len(mtypes)), conn_counts)\n",
    "plt.bar(np.arange(len(mtypes)), conn_counts)\n",
    "plt.xlabel('M-Type')\n",
    "plt.ylabel('Conn. count')\n",
    "plt.title('Connection counts', fontweight='bold')\n",
    "plt.tight_layout()\n",
    "plt.show()"
   ]
  },
  {
   "cell_type": "code",
   "execution_count": null,
   "metadata": {},
   "outputs": [],
   "source": []
  }
 ],
 "metadata": {
  "kernelspec": {
   "display_name": "ToposampleKernel",
   "language": "python",
   "name": "toposamplekernel"
  },
  "language_info": {
   "codemirror_mode": {
    "name": "ipython",
    "version": 3
   },
   "file_extension": ".py",
   "mimetype": "text/x-python",
   "name": "python",
   "nbconvert_exporter": "python",
   "pygments_lexer": "ipython3",
   "version": "3.7.4"
  }
 },
 "nbformat": 4,
 "nbformat_minor": 4
}
