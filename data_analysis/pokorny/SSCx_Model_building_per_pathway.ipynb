{
 "cells": [
  {
   "cell_type": "markdown",
   "metadata": {},
   "source": [
    "# Per-pathway connection probability model building of the whole SSCx circuit\n",
    "## Preparation of neuron tables and adjacency matrices per pathway"
   ]
  },
  {
   "cell_type": "code",
   "execution_count": 1,
   "metadata": {},
   "outputs": [],
   "source": [
    "# Global imports\n",
    "import numpy as np\n",
    "import pandas as pd\n",
    "import matplotlib.pyplot as plt\n",
    "import scipy.sparse as sps\n",
    "import os\n",
    "import sys\n",
    "import logging\n",
    "import pickle\n",
    "import progressbar\n",
    "\n",
    "# Local imports\n",
    "sys.path.append('../../library')\n",
    "import modelling"
   ]
  },
  {
   "cell_type": "code",
   "execution_count": 2,
   "metadata": {},
   "outputs": [],
   "source": [
    "save_path = './modelling'\n",
    "if not os.path.exists(save_path):\n",
    "    os.makedirs(save_path)"
   ]
  },
  {
   "cell_type": "code",
   "execution_count": null,
   "metadata": {},
   "outputs": [],
   "source": []
  },
  {
   "cell_type": "markdown",
   "metadata": {},
   "source": [
    "### Mid-range connectivity"
   ]
  },
  {
   "cell_type": "code",
   "execution_count": 45,
   "metadata": {},
   "outputs": [],
   "source": [
    "data_path = '/gpfs/bbp.cscs.ch/project/proj102/scratch/SSCX_BioM/matrices'\n",
    "conn_fn = 'intra_SSCX_midrange_wm.npz'\n",
    "nrn_fn = 'neuron_info_extended.feather'\n",
    "conn_type = 'midrange'"
   ]
  },
  {
   "cell_type": "code",
   "execution_count": 3,
   "metadata": {},
   "outputs": [
    {
     "name": "stdout",
     "output_type": "stream",
     "text": [
      "INFO: Loaded connectivity and properties of 4234929 neurons\n"
     ]
    }
   ],
   "source": [
    "# Load connectivity matrix and neuron table\n",
    "adj_matrix = sps.load_npz(os.path.join(data_path, conn_fn))\n",
    "nrn_table = pd.read_feather(os.path.join(data_path, nrn_fn))\n",
    "assert adj_matrix.shape[0] == adj_matrix.shape[1] == nrn_table.shape[0], 'ERROR: Data size mismatch!'\n",
    "print(f'INFO: Loaded connectivity and properties of {nrn_table.shape[0]} neurons')"
   ]
  },
  {
   "cell_type": "code",
   "execution_count": null,
   "metadata": {},
   "outputs": [],
   "source": []
  },
  {
   "cell_type": "code",
   "execution_count": 106,
   "metadata": {},
   "outputs": [
    {
     "name": "stdout",
     "output_type": "stream",
     "text": [
      "Found 60 m-types: L1_DAC, ..., L6_UPC\n"
     ]
    },
    {
     "name": "stderr",
     "output_type": "stream",
     "text": [
      "100% |########################################################################|\n"
     ]
    }
   ],
   "source": [
    "# Extract neuron tables per m-type\n",
    "nrn_path = os.path.join(save_path, 'nrn_tables', conn_type)\n",
    "if not os.path.exists(nrn_path):\n",
    "    os.makedirs(nrn_path)\n",
    "\n",
    "mtypes = np.unique(nrn_table['mtype'])\n",
    "print(f'Found {len(mtypes)} m-types: {mtypes[0]}, ..., {mtypes[-1]}', flush=True)\n",
    "np.save(os.path.join(nrn_path, 'mtypes.npy'), mtypes.astype(str))\n",
    "\n",
    "pbar = progressbar.ProgressBar()\n",
    "for idx in pbar(range(len(mtypes))):\n",
    "    nrn_table_sel = nrn_table[nrn_table['mtype'] == mtypes[idx]]\n",
    "    nrn_table_sel.reset_index().to_feather(os.path.join(nrn_path, f'nrn_info__{mtypes[idx]}.feather'))\n"
   ]
  },
  {
   "cell_type": "code",
   "execution_count": 61,
   "metadata": {},
   "outputs": [
    {
     "name": "stdout",
     "output_type": "stream",
     "text": [
      "Found 60 m-types: L1_DAC, ..., L6_UPC\n"
     ]
    },
    {
     "name": "stderr",
     "output_type": "stream",
     "text": [
      "100% |########################################################################|\n"
     ]
    }
   ],
   "source": [
    "# Extract sub-matrices per pathway (PRE m-types x POST m-types)\n",
    "mat_path = os.path.join(save_path, 'adj_matrices', conn_type)\n",
    "if not os.path.exists(mat_path):\n",
    "    os.makedirs(mat_path)\n",
    "\n",
    "adj_sizes = np.full((len(mtypes), len(mtypes), 2), -1)\n",
    "conn_counts = np.full((len(mtypes), len(mtypes)), -1)\n",
    "\n",
    "pbar = progressbar.ProgressBar()\n",
    "for src_idx in pbar(range(len(mtypes))):\n",
    "    nrn_sel_src = nrn_table[nrn_table['mtype'] == mtypes[src_idx]].index\n",
    "    for tgt_idx in range(len(mtypes)):\n",
    "        nrn_sel_tgt = nrn_table[nrn_table['mtype'] == mtypes[tgt_idx]].index\n",
    "        adj_matrix_pathway = adj_matrix[nrn_sel_src, :][:, nrn_sel_tgt]\n",
    "\n",
    "        adj_sizes[src_idx, tgt_idx, :] = adj_matrix_pathway.shape\n",
    "        conn_counts[src_idx, tgt_idx] = adj_matrix_pathway.count_nonzero()\n",
    "\n",
    "        sps.save_npz(os.path.join(mat_path, f'adj_mat__{mtypes[src_idx]}-{mtypes[tgt_idx]}'), adj_matrix_pathway)\n",
    "\n",
    "np.save(os.path.join(mat_path, 'adj_sizes.npy'), adj_sizes)\n",
    "np.save(os.path.join(mat_path, 'conn_counts.npy'), conn_counts)"
   ]
  },
  {
   "cell_type": "code",
   "execution_count": 79,
   "metadata": {},
   "outputs": [
    {
     "name": "stdout",
     "output_type": "stream",
     "text": [
      "INFO: Counts OK!\n"
     ]
    }
   ],
   "source": [
    "# Check counts\n",
    "assert np.sum(conn_counts == -1) == 0, 'ERROR: Connection counts missing!'\n",
    "assert np.sum(adj_sizes == -1) == 0, 'ERROR: Matrix sizes missing!'\n",
    "assert np.sum(conn_counts) == adj_matrix.count_nonzero(), 'ERROR: Connection count mismatch!'\n",
    "assert np.sum(np.prod(adj_sizes, 2)) == np.prod(adj_matrix.shape), 'ERROR: Matrix size mismatch!'\n",
    "print('INFO: Counts OK!')"
   ]
  },
  {
   "cell_type": "code",
   "execution_count": 213,
   "metadata": {},
   "outputs": [
    {
     "data": {
      "image/png": "[encoded data removed]",
      "text/plain": [
       "<Figure size 720x216 with 5 Axes>"
      ]
     },
     "metadata": {
      "needs_background": "light"
     },
     "output_type": "display_data"
    }
   ],
   "source": [
    "# Show matrix sizes and connection counts\n",
    "size_lim = 200000**2 # Size limit tested successfully\n",
    "plt.figure(figsize=(10, 3))\n",
    "plt.subplot(1, 3, 1)\n",
    "plt.imshow(np.prod(adj_sizes, 2), interpolation='nearest')\n",
    "plt.xlabel('M-Type')\n",
    "plt.ylabel('M-Type')\n",
    "plt.title('Matrix sizes', fontweight='bold')\n",
    "plt.colorbar()\n",
    "plt.subplot(1, 3, 2)\n",
    "plt.hist(np.prod(adj_sizes, 2).flatten(), bins=100, log=True, label='No conns')\n",
    "plt.hist(np.prod(adj_sizes, 2)[conn_counts > 0].flatten(), bins=100, log=True, label='Conns')\n",
    "# size_hist = np.histogram(np.prod(adj_sizes, 2), bins=100)\n",
    "# step_size = np.min(np.diff(size_hist[1]))\n",
    "# # plt.plot(size_hist[1][1:] - step_size, size_hist[0])\n",
    "# plt.plot(size_hist[1][1:] - step_size, np.cumsum(size_hist[0]))\n",
    "plt.ylim(plt.ylim()) # Freeze limit\n",
    "plt.plot([size_lim] * 2, plt.ylim(), '--r', zorder=0)\n",
    "plt.xlabel('Matrix size')\n",
    "plt.ylabel('Count')\n",
    "plt.title('Matrix size distribution', fontweight='bold')\n",
    "plt.legend()\n",
    "plt.subplot(1, 3, 3)\n",
    "plt.imshow(conn_counts, interpolation='nearest')\n",
    "plt.xlabel('M-Type')\n",
    "plt.ylabel('M-Type')\n",
    "plt.title('Connection counts', fontweight='bold')\n",
    "plt.colorbar()\n",
    "plt.tight_layout()\n",
    "plt.show()"
   ]
  },
  {
   "cell_type": "code",
   "execution_count": 221,
   "metadata": {},
   "outputs": [
    {
     "name": "stdout",
     "output_type": "stream",
     "text": [
      "Max. size: L3_TPC:A-L3_TPC:A: 453858x453858 = 205987084164\n",
      "Max. conn. count: L4_TPC-L5_TPC:A: 58568344\n",
      "Pathways w/o connections: 2520 of 3600 (70.0%)\n"
     ]
    }
   ],
   "source": [
    "max_idx = np.unravel_index(np.argmax(np.prod(adj_sizes, 2)), adj_sizes.shape[:2])\n",
    "print(f'Max. size: {mtypes[max_idx[0]]}-{mtypes[max_idx[1]]}: {adj_sizes[max_idx[0], max_idx[1], 0]}x{adj_sizes[max_idx[0], max_idx[1], 1]} = {np.prod(adj_sizes[max_idx[0], max_idx[1], :])}')\n",
    "\n",
    "max_idx = np.unravel_index(np.argmax(conn_counts), adj_sizes.shape[:2])\n",
    "print(f'Max. conn. count: {mtypes[max_idx[0]]}-{mtypes[max_idx[1]]}: {conn_counts[max_idx[0], max_idx[1]]}')\n",
    "\n",
    "print(f'Pathways w/o connections: {np.sum(conn_counts == 0)} of {np.sum(conn_counts >= 0)} ({100 * np.sum(conn_counts == 0) / np.sum(conn_counts >= 0)}%)')"
   ]
  },
  {
   "cell_type": "code",
   "execution_count": null,
   "metadata": {},
   "outputs": [],
   "source": []
  },
  {
   "cell_type": "code",
   "execution_count": 224,
   "metadata": {},
   "outputs": [
    {
     "name": "stderr",
     "output_type": "stream",
     "text": [
      "100% |########################################################################|\n"
     ]
    }
   ],
   "source": [
    "# Extract sub-matrices per pathway (PRE m-types x All POST)\n",
    "mat_path = os.path.join(save_path, 'adj_matrices', conn_type)\n",
    "if not os.path.exists(mat_path):\n",
    "    os.makedirs(mat_path)\n",
    "\n",
    "adj_sizes = np.full((len(mtypes), 2), -1)\n",
    "conn_counts = np.full(len(mtypes), -1)\n",
    "\n",
    "pbar = progressbar.ProgressBar()\n",
    "for src_idx in pbar(range(len(mtypes))):\n",
    "    nrn_sel_src = nrn_table[nrn_table['mtype'] == mtypes[src_idx]].index\n",
    "    adj_matrix_pathway = adj_matrix[nrn_sel_src, :]\n",
    "\n",
    "    adj_sizes[src_idx, :] = adj_matrix_pathway.shape\n",
    "    conn_counts[src_idx] = adj_matrix_pathway.count_nonzero()\n",
    "\n",
    "    sps.save_npz(os.path.join(mat_path, f'adj_mat__{mtypes[src_idx]}-ALL'), adj_matrix_pathway)\n",
    "\n",
    "np.save(os.path.join(mat_path, 'adj_sizes_PRE.npy'), adj_sizes)\n",
    "np.save(os.path.join(mat_path, 'conn_counts_PRE.npy'), conn_counts)"
   ]
  },
  {
   "cell_type": "code",
   "execution_count": 227,
   "metadata": {},
   "outputs": [
    {
     "name": "stdout",
     "output_type": "stream",
     "text": [
      "Max. size: L3_TPC:A-ALL: 453858x4234929 = 1922056406082\n",
      "Max. conn. count: L4_TPC-ALL: 385285691\n",
      "Pathways w/o connections: 42 of 60 (70.0%)\n"
     ]
    }
   ],
   "source": [
    "max_idx = np.argmax(np.prod(adj_sizes, 1))\n",
    "print(f'Max. size: {mtypes[max_idx]}-ALL: {adj_sizes[max_idx, 0]}x{adj_sizes[max_idx, 1]} = {np.prod(adj_sizes[max_idx, :])}')\n",
    "\n",
    "max_idx = np.argmax(conn_counts)\n",
    "print(f'Max. conn. count: {mtypes[max_idx]}-ALL: {conn_counts[max_idx]}')\n",
    "\n",
    "print(f'Pathways w/o connections: {np.sum(conn_counts == 0)} of {np.sum(conn_counts >= 0)} ({100 * np.sum(conn_counts == 0) / np.sum(conn_counts >= 0)}%)')"
   ]
  },
  {
   "cell_type": "code",
   "execution_count": 229,
   "metadata": {},
   "outputs": [
    {
     "data": {
      "image/png": "[encoded data removed]",
      "text/plain": [
       "<Figure size 720x216 with 3 Axes>"
      ]
     },
     "metadata": {
      "needs_background": "light"
     },
     "output_type": "display_data"
    }
   ],
   "source": [
    "# Show matrix sizes and connection counts\n",
    "plt.figure(figsize=(10, 3))\n",
    "plt.subplot(1, 3, 1)\n",
    "plt.bar(np.arange(len(mtypes)), np.prod(adj_sizes, 1), label='No conns')\n",
    "plt.bar(np.arange(len(mtypes))[conn_counts > 0], np.prod(adj_sizes, 1)[conn_counts > 0], label='Conns')\n",
    "plt.xlabel('M-Type')\n",
    "plt.ylabel('Matrix size')\n",
    "plt.title('Matrix sizes', fontweight='bold')\n",
    "plt.subplot(1, 3, 2)\n",
    "plt.hist(np.prod(adj_sizes, 1), bins=100, log=False, label='No conns')\n",
    "plt.hist(np.prod(adj_sizes, 1)[conn_counts > 0], bins=100, log=False, label='Conns')\n",
    "plt.ylim(plt.ylim()) # Freeze limit\n",
    "plt.plot([size_lim] * 2, plt.ylim(), '--r', zorder=0)\n",
    "plt.xlabel('Matrix size')\n",
    "plt.ylabel('Count')\n",
    "plt.title('Matrix size distribution', fontweight='bold')\n",
    "plt.legend()\n",
    "plt.subplot(1, 3, 3)\n",
    "plt.bar(np.arange(len(mtypes)), conn_counts)\n",
    "plt.bar(np.arange(len(mtypes)), conn_counts)\n",
    "plt.xlabel('M-Type')\n",
    "plt.ylabel('Conn. count')\n",
    "plt.title('Connection counts', fontweight='bold')\n",
    "plt.tight_layout()\n",
    "plt.show()"
   ]
  },
  {
   "cell_type": "code",
   "execution_count": null,
   "metadata": {},
   "outputs": [],
   "source": []
  },
  {
   "cell_type": "markdown",
   "metadata": {},
   "source": [
    "### Local connectivity"
   ]
  },
  {
   "cell_type": "code",
   "execution_count": 2,
   "metadata": {},
   "outputs": [],
   "source": [
    "data_path = '/gpfs/bbp.cscs.ch/project/proj102/scratch/SSCX_BioM/matrices'\n",
    "conn_fn = 'local_connectivity.npz'\n",
    "nrn_fn = 'neuron_info.feather'\n",
    "conn_type = 'local'"
   ]
  },
  {
   "cell_type": "code",
   "execution_count": 4,
   "metadata": {},
   "outputs": [
    {
     "name": "stdout",
     "output_type": "stream",
     "text": [
      "INFO: Loaded connectivity and properties of 4234929 neurons\n"
     ]
    }
   ],
   "source": [
    "# Load connectivity matrix and neuron table\n",
    "adj_matrix = sps.load_npz(os.path.join(data_path, conn_fn))\n",
    "nrn_table = pd.read_feather(os.path.join(data_path, nrn_fn))\n",
    "assert adj_matrix.shape[0] == adj_matrix.shape[1] == nrn_table.shape[0], 'ERROR: Data size mismatch!'\n",
    "print(f'INFO: Loaded connectivity and properties of {nrn_table.shape[0]} neurons')"
   ]
  },
  {
   "cell_type": "code",
   "execution_count": 6,
   "metadata": {},
   "outputs": [
    {
     "name": "stdout",
     "output_type": "stream",
     "text": [
      "Found 60 m-types: L1_DAC, ..., L6_UPC\n"
     ]
    },
    {
     "name": "stderr",
     "output_type": "stream",
     "text": [
      "100% |########################################################################|\n"
     ]
    }
   ],
   "source": [
    "# Extract neuron tables per m-type\n",
    "nrn_path = os.path.join(save_path, 'nrn_tables', conn_type)\n",
    "if not os.path.exists(nrn_path):\n",
    "    os.makedirs(nrn_path)\n",
    "\n",
    "mtypes = np.unique(nrn_table['mtype'])\n",
    "print(f'Found {len(mtypes)} m-types: {mtypes[0]}, ..., {mtypes[-1]}', flush=True)\n",
    "np.save(os.path.join(nrn_path, 'mtypes.npy'), mtypes.astype(str))\n",
    "\n",
    "pbar = progressbar.ProgressBar()\n",
    "for idx in pbar(range(len(mtypes))):\n",
    "    nrn_table_sel = nrn_table[nrn_table['mtype'] == mtypes[idx]]\n",
    "    nrn_table_sel.reset_index().to_feather(os.path.join(nrn_path, f'nrn_info__{mtypes[idx]}.feather'))"
   ]
  },
  {
   "cell_type": "code",
   "execution_count": null,
   "metadata": {},
   "outputs": [],
   "source": []
  },
  {
   "cell_type": "code",
   "execution_count": 7,
   "metadata": {},
   "outputs": [
    {
     "name": "stderr",
     "output_type": "stream",
     "text": [
      "100% |########################################################################|\n"
     ]
    }
   ],
   "source": [
    "# Extract sub-matrices per pathway (PRE m-types x All POST)\n",
    "mat_path = os.path.join(save_path, 'adj_matrices', conn_type)\n",
    "if not os.path.exists(mat_path):\n",
    "    os.makedirs(mat_path)\n",
    "\n",
    "adj_sizes = np.full((len(mtypes), 2), -1)\n",
    "conn_counts = np.full(len(mtypes), -1)\n",
    "\n",
    "pbar = progressbar.ProgressBar()\n",
    "for src_idx in pbar(range(len(mtypes))):\n",
    "    nrn_sel_src = nrn_table[nrn_table['mtype'] == mtypes[src_idx]].index\n",
    "    adj_matrix_pathway = adj_matrix[nrn_sel_src, :]\n",
    "\n",
    "    adj_sizes[src_idx, :] = adj_matrix_pathway.shape\n",
    "    conn_counts[src_idx] = adj_matrix_pathway.count_nonzero()\n",
    "\n",
    "    sps.save_npz(os.path.join(mat_path, f'adj_mat__{mtypes[src_idx]}-ALL'), adj_matrix_pathway)\n",
    "\n",
    "np.save(os.path.join(mat_path, 'adj_sizes_PRE.npy'), adj_sizes)\n",
    "np.save(os.path.join(mat_path, 'conn_counts_PRE.npy'), conn_counts)"
   ]
  },
  {
   "cell_type": "code",
   "execution_count": 8,
   "metadata": {},
   "outputs": [
    {
     "name": "stdout",
     "output_type": "stream",
     "text": [
      "Max. size: L3_TPC:A-ALL: 453858x4234929 = 1922056406082\n",
      "Max. conn. count: L3_TPC:A-ALL: 291308690\n",
      "Pathways w/o connections: 0 of 60 (0.0%)\n"
     ]
    }
   ],
   "source": [
    "max_idx = np.argmax(np.prod(adj_sizes, 1))\n",
    "print(f'Max. size: {mtypes[max_idx]}-ALL: {adj_sizes[max_idx, 0]}x{adj_sizes[max_idx, 1]} = {np.prod(adj_sizes[max_idx, :])}')\n",
    "\n",
    "max_idx = np.argmax(conn_counts)\n",
    "print(f'Max. conn. count: {mtypes[max_idx]}-ALL: {conn_counts[max_idx]}')\n",
    "\n",
    "print(f'Pathways w/o connections: {np.sum(conn_counts == 0)} of {np.sum(conn_counts >= 0)} ({100 * np.sum(conn_counts == 0) / np.sum(conn_counts >= 0)}%)')"
   ]
  },
  {
   "cell_type": "code",
   "execution_count": 10,
   "metadata": {},
   "outputs": [
    {
     "data": {
      "image/png": "[encoded data removed]",
      "text/plain": [
       "<Figure size 720x216 with 3 Axes>"
      ]
     },
     "metadata": {
      "needs_background": "light"
     },
     "output_type": "display_data"
    }
   ],
   "source": [
    "# Show matrix sizes and connection counts\n",
    "size_lim = 200000**2 # Size limit tested successfully\n",
    "plt.figure(figsize=(10, 3))\n",
    "plt.subplot(1, 3, 1)\n",
    "plt.bar(np.arange(len(mtypes)), np.prod(adj_sizes, 1), label='No conns')\n",
    "plt.bar(np.arange(len(mtypes))[conn_counts > 0], np.prod(adj_sizes, 1)[conn_counts > 0], label='Conns')\n",
    "plt.xlabel('M-Type')\n",
    "plt.ylabel('Matrix size')\n",
    "plt.title('Matrix sizes', fontweight='bold')\n",
    "plt.subplot(1, 3, 2)\n",
    "plt.hist(np.prod(adj_sizes, 1), bins=100, log=False, label='No conns')\n",
    "plt.hist(np.prod(adj_sizes, 1)[conn_counts > 0], bins=100, log=False, label='Conns')\n",
    "plt.ylim(plt.ylim()) # Freeze limit\n",
    "plt.plot([size_lim] * 2, plt.ylim(), '--r', zorder=0)\n",
    "plt.xlabel('Matrix size')\n",
    "plt.ylabel('Count')\n",
    "plt.title('Matrix size distribution', fontweight='bold')\n",
    "plt.legend()\n",
    "plt.subplot(1, 3, 3)\n",
    "plt.bar(np.arange(len(mtypes)), conn_counts)\n",
    "plt.bar(np.arange(len(mtypes)), conn_counts)\n",
    "plt.xlabel('M-Type')\n",
    "plt.ylabel('Conn. count')\n",
    "plt.title('Connection counts', fontweight='bold')\n",
    "plt.tight_layout()\n",
    "plt.show()"
   ]
  },
  {
   "cell_type": "code",
   "execution_count": null,
   "metadata": {},
   "outputs": [],
   "source": []
  },
  {
   "cell_type": "code",
   "execution_count": null,
   "metadata": {},
   "outputs": [],
   "source": [
    "assert False, 'STOP HERE'"
   ]
  },
  {
   "cell_type": "code",
   "execution_count": null,
   "metadata": {},
   "outputs": [],
   "source": []
  },
  {
   "cell_type": "markdown",
   "metadata": {},
   "source": [
    "## Running model extraction per pathway"
   ]
  },
  {
   "cell_type": "markdown",
   "metadata": {},
   "source": [
    "Running batch scripts:\n",
    "- <code>sbatch run_SSCx_model_building_order2_local_per_pathway.sh SAMPLE_SIZE \\<MTYPE_IDX_START\\> \\<MTYPE_IDX_END\\><\\code>\n",
    "- <code>sbatch run_SSCx_model_building_order2_midrange_per_pathway.sh SAMPLE_SIZE \\<MTYPE_IDX_START\\> \\<MTYPE_IDX_END\\><\\code>"
   ]
  },
  {
   "cell_type": "code",
   "execution_count": null,
   "metadata": {},
   "outputs": [],
   "source": []
  },
  {
   "cell_type": "markdown",
   "metadata": {},
   "source": [
    "## Collecting model coefficient per pathway"
   ]
  },
  {
   "cell_type": "code",
   "execution_count": 3,
   "metadata": {},
   "outputs": [],
   "source": [
    "model_path = './modelling/tables_per_pathway_100000'\n",
    "model_fn = 'SSCx_model_params_order-2' # Base filename"
   ]
  },
  {
   "cell_type": "code",
   "execution_count": 4,
   "metadata": {},
   "outputs": [],
   "source": [
    "def collect_model_coefficients(model_path, model_fn, conn_type, mtypes, coef_names):\n",
    "    \"\"\"Load model coefficient tables per pathway, and saves them as summary table.\"\"\"\n",
    "    coef_tables = [pd.DataFrame([], index=pd.Index([], name='mtype'), columns=['mean', 'std', 'rSEM', 'N']) for n in coef_names]\n",
    "    for mt in mtypes:\n",
    "        model_params = pd.read_hdf(os.path.join(model_path, f'{model_fn}_{conn_type}__{mt}-ALL.h5'))\n",
    "        for cidx, cname in enumerate(coef_names):\n",
    "            mean = model_params[cname].mean()\n",
    "            std = model_params[cname].std()\n",
    "            rsem = 100.0 * model_params[cname].sem() / model_params[cname].mean() # (in %)\n",
    "            count = len(model_params[cname])\n",
    "            coef_tables[cidx] = coef_tables[cidx].append(pd.DataFrame({'mean': mean, 'std': std, 'rSEM': rsem, 'N': count}, index=[mt]))\n",
    "\n",
    "    # Save summary tables & mean coefficients\n",
    "    for cidx, cname in enumerate(coef_names):\n",
    "        coef_tables[cidx].to_hdf(os.path.join(model_path, f'{model_fn}_{conn_type}__{cname}.h5'), key=cname, mode='w')\n",
    "        coef_tables[cidx].to_csv(os.path.join(model_path, f'{model_fn}_{conn_type}__{cname}.csv'), mode='w')\n",
    "        np.save(os.path.join(model_path, f'{model_fn}_{conn_type}__{cname}.npy'), coef_tables[cidx]['mean'].to_numpy())\n",
    "\n",
    "    return coef_tables\n",
    "\n",
    "\n",
    "def plot_model_coefs_per_pathway(conn_type, coef_names, coef_tables, mtypes):\n",
    "    \"\"\"Plots model coefficients per pathway.\"\"\"\n",
    "    for cidx, cname in enumerate(coef_names):\n",
    "        plt.figure(figsize=(12, 4))\n",
    "        plt.subplot(2, 1, 1)\n",
    "        plt.bar(range(len(mtypes)), coef_tables[cidx]['mean'].to_numpy())\n",
    "        plt.xticks(range(len(mtypes)), [])\n",
    "        plt.xlim([-1, len(mtypes)])\n",
    "        m = coef_tables[cidx]['mean'][coef_tables[cidx]['mean'] > 0].mean() # [Excluding empty pathways]\n",
    "        s = coef_tables[cidx]['mean'][coef_tables[cidx]['mean'] > 0].std() # [Excluding empty pathways]\n",
    "        plt.plot(plt.xlim(), [m] * 2, '--k', label=f'Mean={m:.6f} +/- {s:.6f} (SD)')\n",
    "        plt.title(cname, fontweight='bold')\n",
    "        plt.ylabel('Mean')\n",
    "        plt.grid()\n",
    "        plt.gca().set_axisbelow(True)\n",
    "        plt.legend()\n",
    "        plt.subplot(2, 1, 2)\n",
    "        plt.bar(range(len(mtypes)), coef_tables[cidx]['rSEM'].to_numpy())\n",
    "        plt.xticks(range(len(mtypes)), mtypes, rotation=45, ha='right')\n",
    "        plt.xlim([-1, len(mtypes)])\n",
    "        m = coef_tables[cidx]['rSEM'][coef_tables[cidx]['mean'] > 0].mean() # [Excluding empty pathways]\n",
    "        s = coef_tables[cidx]['rSEM'][coef_tables[cidx]['mean'] > 0].std() # [Excluding empty pathways]\n",
    "        plt.plot(plt.xlim(), [m] * 2, '--k', label=f'Mean={m:.6f} +/- {s:.6f} (SD)')\n",
    "        plt.ylabel('rSEM (%)')\n",
    "        plt.grid()\n",
    "        plt.gca().set_axisbelow(True)\n",
    "        plt.legend()\n",
    "        plt.suptitle(f'{conn_type.upper()} connectivity', fontweight='bold')\n",
    "        plt.tight_layout()\n",
    "        plt.show()"
   ]
  },
  {
   "cell_type": "code",
   "execution_count": null,
   "metadata": {},
   "outputs": [],
   "source": []
  },
  {
   "cell_type": "markdown",
   "metadata": {},
   "source": [
    "### Local connectivity"
   ]
  },
  {
   "cell_type": "code",
   "execution_count": 6,
   "metadata": {},
   "outputs": [],
   "source": [
    "# Load LOCAL model coefficient tables per pathway\n",
    "conn_type = 'local'\n",
    "mtypes = np.load(os.path.join('./modelling/nrn_tables', conn_type, 'mtypes.npy'))\n",
    "coef_names = ['exp_model_scale', 'exp_model_exponent']\n",
    "coef_tables = collect_model_coefficients(model_path, model_fn, conn_type, mtypes, coef_names)"
   ]
  },
  {
   "cell_type": "code",
   "execution_count": 7,
   "metadata": {},
   "outputs": [
    {
     "data": {
      "image/png": "[encoded data removed]",
      "text/plain": [
       "<Figure size 864x288 with 2 Axes>"
      ]
     },
     "metadata": {
      "needs_background": "light"
     },
     "output_type": "display_data"
    },
    {
     "data": {
      "image/png": "[encoded data removed]",
      "text/plain": [
       "<Figure size 864x288 with 2 Axes>"
      ]
     },
     "metadata": {
      "needs_background": "light"
     },
     "output_type": "display_data"
    }
   ],
   "source": [
    "# Plot coefficients\n",
    "plot_model_coefs_per_pathway(conn_type, coef_names, coef_tables, mtypes)"
   ]
  },
  {
   "cell_type": "code",
   "execution_count": null,
   "metadata": {},
   "outputs": [],
   "source": []
  },
  {
   "cell_type": "markdown",
   "metadata": {},
   "source": [
    "### Midrange connectivity"
   ]
  },
  {
   "cell_type": "code",
   "execution_count": 9,
   "metadata": {},
   "outputs": [],
   "source": [
    "# Load LOCAL model coefficient tables per pathway\n",
    "conn_type = 'midrange'\n",
    "mtypes = np.load(os.path.join('./modelling/nrn_tables', conn_type, 'mtypes.npy'))\n",
    "coef_names = ['exp_model_scale', 'exp_model_exponent']\n",
    "coef_tables = collect_model_coefficients(model_path, model_fn, conn_type, mtypes, coef_names)"
   ]
  },
  {
   "cell_type": "code",
   "execution_count": null,
   "metadata": {},
   "outputs": [
    {
     "data": {
      "image/png": "[encoded data removed]",
      "text/plain": [
       "<Figure size 864x288 with 2 Axes>"
      ]
     },
     "metadata": {
      "needs_background": "light"
     },
     "output_type": "display_data"
    }
   ],
   "source": [
    "# Plot coefficients\n",
    "plot_model_coefs_per_pathway(conn_type, coef_names, coef_tables, mtypes)"
   ]
  },
  {
   "cell_type": "code",
   "execution_count": null,
   "metadata": {},
   "outputs": [],
   "source": []
  },
  {
   "cell_type": "markdown",
   "metadata": {},
   "source": [
    "## Comparison with randomized control matrix\n",
    "\n",
    "### Midrange connectivity"
   ]
  },
  {
   "cell_type": "code",
   "execution_count": 23,
   "metadata": {},
   "outputs": [
    {
     "name": "stdout",
     "output_type": "stream",
     "text": [
      "INFO: Loaded connectivity and properties of 4234929 neurons\n"
     ]
    }
   ],
   "source": [
    "# Load midrange connectivity\n",
    "k = 4 # k between 1-10\n",
    "ind_file = f'/gpfs/bbp.cscs.ch/data/scratch/proj102/matrices/controls/midrange_dist_dep_block_{k}_indices.npy'\n",
    "ptr_file = f'/gpfs/bbp.cscs.ch/data/scratch/proj102/matrices/controls/midrange_dist_dep_block_{k}_indptr.npy'\n",
    "ind_data = np.load(ind_file)\n",
    "ptr_data = np.load(ptr_file)\n",
    "adj_matrix = sps.csr_matrix((np.ones_like(ind_data), ind_data, ptr_data), dtype=bool)\n",
    "nrn_file = '/gpfs/bbp.cscs.ch/project/proj102/scratch/SSCX_BioM/matrices/neuron_info_extended.feather'\n",
    "nrn_table = pd.read_feather(nrn_file)\n",
    "assert adj_matrix.shape[0] == adj_matrix.shape[1] == nrn_table.shape[0], 'ERROR: Data size mismatch!'\n",
    "print(f'INFO: Loaded connectivity and properties of {nrn_table.shape[0]} neurons')"
   ]
  },
  {
   "cell_type": "code",
   "execution_count": 24,
   "metadata": {},
   "outputs": [
    {
     "name": "stdout",
     "output_type": "stream",
     "text": [
      ">>>>>M-TYPE 1 of 60 (L1_DAC)<<<<<\n",
      ">>>>>M-TYPE 2 of 60 (L1_HAC)<<<<<\n",
      ">>>>>M-TYPE 3 of 60 (L1_LAC)<<<<<\n",
      ">>>>>M-TYPE 4 of 60 (L1_NGC-DA)<<<<<\n",
      ">>>>>M-TYPE 5 of 60 (L1_NGC-SA)<<<<<\n",
      ">>>>>M-TYPE 6 of 60 (L1_SAC)<<<<<\n",
      ">>>>>M-TYPE 7 of 60 (L23_BP)<<<<<\n",
      ">>>>>M-TYPE 8 of 60 (L23_BTC)<<<<<\n",
      ">>>>>M-TYPE 9 of 60 (L23_CHC)<<<<<\n",
      ">>>>>M-TYPE 10 of 60 (L23_DBC)<<<<<\n",
      ">>>>>M-TYPE 11 of 60 (L23_LBC)<<<<<\n",
      ">>>>>M-TYPE 12 of 60 (L23_MC)<<<<<\n",
      ">>>>>M-TYPE 13 of 60 (L23_NBC)<<<<<\n",
      ">>>>>M-TYPE 14 of 60 (L23_NGC)<<<<<\n",
      ">>>>>M-TYPE 15 of 60 (L23_SBC)<<<<<\n",
      ">>>>>M-TYPE 16 of 60 (L2_IPC)<<<<<\n",
      "[2022-05-06 17:40:26,491] INFO: Running order-2 model building {'bin_size_um': 20, 'max_range_um': 400, 'sample_size': 10000, 'coord_names': ['ss_mapping_x', 'ss_mapping_y'], 'model_dir': None, 'data_dir': None, 'plot_dir': None, 'do_plot': False, 'N_split': None, 'sample_seed': 1234}...\n",
      "[2022-05-06 17:40:26,492] INFO: Subsampling to 10000 of 37233x4234929 neurons (seed=1234)\n",
      "[2022-05-06 17:40:29,356] INFO: Extracting 1-dimensional (20) connection probabilities...\n"
     ]
    },
    {
     "name": "stderr",
     "output_type": "stream",
     "text": [
      "100% |########################################################################|\r"
     ]
    },
    {
     "name": "stdout",
     "output_type": "stream",
     "text": [
      "[2022-05-06 17:40:47,406] INFO: MODEL FIT: f(x) = 0.000225 * exp(-0.010876 * x)\n"
     ]
    },
    {
     "name": "stderr",
     "output_type": "stream",
     "text": [
      "\n",
      "../../library/modelling.py:421: RuntimeWarning: invalid value encountered in true_divide\n",
      "  p_conn = np.array(count_conn / count_all)\n"
     ]
    },
    {
     "name": "stdout",
     "output_type": "stream",
     "text": [
      ">>>>>M-TYPE 17 of 60 (L2_TPC:A)<<<<<\n",
      "[2022-05-06 17:40:47,652] INFO: Running order-2 model building {'bin_size_um': 20, 'max_range_um': 400, 'sample_size': 10000, 'coord_names': ['ss_mapping_x', 'ss_mapping_y'], 'model_dir': None, 'data_dir': None, 'plot_dir': None, 'do_plot': False, 'N_split': None, 'sample_seed': 1234}...\n",
      "[2022-05-06 17:40:47,653] INFO: Subsampling to 10000 of 55849x4234929 neurons (seed=1234)\n",
      "[2022-05-06 17:40:50,428] INFO: Extracting 1-dimensional (20) connection probabilities...\n"
     ]
    },
    {
     "name": "stderr",
     "output_type": "stream",
     "text": [
      "100% |########################################################################|\r"
     ]
    },
    {
     "name": "stdout",
     "output_type": "stream",
     "text": [
      "[2022-05-06 17:41:08,468] INFO: MODEL FIT: f(x) = 0.000225 * exp(-0.010850 * x)\n"
     ]
    },
    {
     "name": "stderr",
     "output_type": "stream",
     "text": [
      "\n"
     ]
    },
    {
     "name": "stdout",
     "output_type": "stream",
     "text": [
      ">>>>>M-TYPE 18 of 60 (L2_TPC:B)<<<<<\n",
      "[2022-05-06 17:41:10,012] INFO: Running order-2 model building {'bin_size_um': 20, 'max_range_um': 400, 'sample_size': 10000, 'coord_names': ['ss_mapping_x', 'ss_mapping_y'], 'model_dir': None, 'data_dir': None, 'plot_dir': None, 'do_plot': False, 'N_split': None, 'sample_seed': 1234}...\n",
      "[2022-05-06 17:41:10,013] INFO: Subsampling to 10000 of 353708x4234929 neurons (seed=1234)\n",
      "[2022-05-06 17:41:12,888] INFO: Extracting 1-dimensional (20) connection probabilities...\n"
     ]
    },
    {
     "name": "stderr",
     "output_type": "stream",
     "text": [
      "100% |########################################################################|\r"
     ]
    },
    {
     "name": "stdout",
     "output_type": "stream",
     "text": [
      "[2022-05-06 17:41:30,902] INFO: MODEL FIT: f(x) = 0.000226 * exp(-0.011146 * x)\n"
     ]
    },
    {
     "name": "stderr",
     "output_type": "stream",
     "text": [
      "\n"
     ]
    },
    {
     "name": "stdout",
     "output_type": "stream",
     "text": [
      ">>>>>M-TYPE 19 of 60 (L3_TPC:A)<<<<<\n",
      "[2022-05-06 17:41:32,899] INFO: Running order-2 model building {'bin_size_um': 20, 'max_range_um': 400, 'sample_size': 10000, 'coord_names': ['ss_mapping_x', 'ss_mapping_y'], 'model_dir': None, 'data_dir': None, 'plot_dir': None, 'do_plot': False, 'N_split': None, 'sample_seed': 1234}...\n",
      "[2022-05-06 17:41:32,899] INFO: Subsampling to 10000 of 453858x4234929 neurons (seed=1234)\n",
      "[2022-05-06 17:41:35,758] INFO: Extracting 1-dimensional (20) connection probabilities...\n"
     ]
    },
    {
     "name": "stderr",
     "output_type": "stream",
     "text": [
      "100% |########################################################################|\r"
     ]
    },
    {
     "name": "stdout",
     "output_type": "stream",
     "text": [
      "[2022-05-06 17:41:53,752] INFO: MODEL FIT: f(x) = 0.000239 * exp(-0.011722 * x)\n"
     ]
    },
    {
     "name": "stderr",
     "output_type": "stream",
     "text": [
      "\n"
     ]
    },
    {
     "name": "stdout",
     "output_type": "stream",
     "text": [
      ">>>>>M-TYPE 20 of 60 (L3_TPC:C)<<<<<\n",
      "[2022-05-06 17:41:54,314] INFO: Running order-2 model building {'bin_size_um': 20, 'max_range_um': 400, 'sample_size': 10000, 'coord_names': ['ss_mapping_x', 'ss_mapping_y'], 'model_dir': None, 'data_dir': None, 'plot_dir': None, 'do_plot': False, 'N_split': None, 'sample_seed': 1234}...\n",
      "[2022-05-06 17:41:54,314] INFO: Subsampling to 10000 of 127493x4234929 neurons (seed=1234)\n",
      "[2022-05-06 17:41:57,141] INFO: Extracting 1-dimensional (20) connection probabilities...\n"
     ]
    },
    {
     "name": "stderr",
     "output_type": "stream",
     "text": [
      "100% |########################################################################|\r"
     ]
    },
    {
     "name": "stdout",
     "output_type": "stream",
     "text": [
      "[2022-05-06 17:42:15,387] INFO: MODEL FIT: f(x) = 0.000222 * exp(-0.011083 * x)\n"
     ]
    },
    {
     "name": "stderr",
     "output_type": "stream",
     "text": [
      "\n"
     ]
    },
    {
     "name": "stdout",
     "output_type": "stream",
     "text": [
      ">>>>>M-TYPE 21 of 60 (L4_BP)<<<<<\n",
      ">>>>>M-TYPE 22 of 60 (L4_BTC)<<<<<\n",
      ">>>>>M-TYPE 23 of 60 (L4_CHC)<<<<<\n",
      ">>>>>M-TYPE 24 of 60 (L4_DBC)<<<<<\n",
      ">>>>>M-TYPE 25 of 60 (L4_LBC)<<<<<\n",
      ">>>>>M-TYPE 26 of 60 (L4_MC)<<<<<\n",
      ">>>>>M-TYPE 27 of 60 (L4_NBC)<<<<<\n",
      ">>>>>M-TYPE 28 of 60 (L4_NGC)<<<<<\n",
      ">>>>>M-TYPE 29 of 60 (L4_SBC)<<<<<\n",
      ">>>>>M-TYPE 30 of 60 (L4_SSC)<<<<<\n",
      "[2022-05-06 17:42:15,926] INFO: Running order-2 model building {'bin_size_um': 20, 'max_range_um': 400, 'sample_size': 10000, 'coord_names': ['ss_mapping_x', 'ss_mapping_y'], 'model_dir': None, 'data_dir': None, 'plot_dir': None, 'do_plot': False, 'N_split': None, 'sample_seed': 1234}...\n",
      "[2022-05-06 17:42:15,927] INFO: Subsampling to 10000 of 57803x4234929 neurons (seed=1234)\n",
      "[2022-05-06 17:42:18,977] INFO: Extracting 1-dimensional (20) connection probabilities...\n"
     ]
    },
    {
     "name": "stderr",
     "output_type": "stream",
     "text": [
      "100% |########################################################################|\r"
     ]
    },
    {
     "name": "stdout",
     "output_type": "stream",
     "text": [
      "[2022-05-06 17:42:37,428] INFO: MODEL FIT: f(x) = 0.000493 * exp(-0.013146 * x)\n"
     ]
    },
    {
     "name": "stderr",
     "output_type": "stream",
     "text": [
      "\n"
     ]
    },
    {
     "name": "stdout",
     "output_type": "stream",
     "text": [
      ">>>>>M-TYPE 31 of 60 (L4_TPC)<<<<<\n",
      "[2022-05-06 17:42:40,840] INFO: Running order-2 model building {'bin_size_um': 20, 'max_range_um': 400, 'sample_size': 10000, 'coord_names': ['ss_mapping_x', 'ss_mapping_y'], 'model_dir': None, 'data_dir': None, 'plot_dir': None, 'do_plot': False, 'N_split': None, 'sample_seed': 1234}...\n",
      "[2022-05-06 17:42:40,841] INFO: Subsampling to 10000 of 408232x4234929 neurons (seed=1234)\n",
      "[2022-05-06 17:42:43,966] INFO: Extracting 1-dimensional (20) connection probabilities...\n"
     ]
    },
    {
     "name": "stderr",
     "output_type": "stream",
     "text": [
      "100% |########################################################################|\r"
     ]
    },
    {
     "name": "stdout",
     "output_type": "stream",
     "text": [
      "[2022-05-06 17:43:02,102] INFO: MODEL FIT: f(x) = 0.000489 * exp(-0.012629 * x)\n"
     ]
    },
    {
     "name": "stderr",
     "output_type": "stream",
     "text": [
      "\n"
     ]
    },
    {
     "name": "stdout",
     "output_type": "stream",
     "text": [
      ">>>>>M-TYPE 32 of 60 (L4_UPC)<<<<<\n",
      "[2022-05-06 17:43:03,479] INFO: Running order-2 model building {'bin_size_um': 20, 'max_range_um': 400, 'sample_size': 10000, 'coord_names': ['ss_mapping_x', 'ss_mapping_y'], 'model_dir': None, 'data_dir': None, 'plot_dir': None, 'do_plot': False, 'N_split': None, 'sample_seed': 1234}...\n",
      "[2022-05-06 17:43:03,480] INFO: Subsampling to 10000 of 169797x4234929 neurons (seed=1234)\n",
      "[2022-05-06 17:43:06,598] INFO: Extracting 1-dimensional (20) connection probabilities...\n"
     ]
    },
    {
     "name": "stderr",
     "output_type": "stream",
     "text": [
      "100% |########################################################################|\r"
     ]
    },
    {
     "name": "stdout",
     "output_type": "stream",
     "text": [
      "[2022-05-06 17:43:24,659] INFO: MODEL FIT: f(x) = 0.000463 * exp(-0.012195 * x)\n"
     ]
    },
    {
     "name": "stderr",
     "output_type": "stream",
     "text": [
      "\n"
     ]
    },
    {
     "name": "stdout",
     "output_type": "stream",
     "text": [
      ">>>>>M-TYPE 33 of 60 (L5_BP)<<<<<\n",
      ">>>>>M-TYPE 34 of 60 (L5_BTC)<<<<<\n",
      ">>>>>M-TYPE 35 of 60 (L5_CHC)<<<<<\n",
      ">>>>>M-TYPE 36 of 60 (L5_DBC)<<<<<\n",
      ">>>>>M-TYPE 37 of 60 (L5_LBC)<<<<<\n",
      ">>>>>M-TYPE 38 of 60 (L5_MC)<<<<<\n",
      ">>>>>M-TYPE 39 of 60 (L5_NBC)<<<<<\n",
      ">>>>>M-TYPE 40 of 60 (L5_NGC)<<<<<\n",
      ">>>>>M-TYPE 41 of 60 (L5_SBC)<<<<<\n",
      ">>>>>M-TYPE 42 of 60 (L5_TPC:A)<<<<<\n",
      "[2022-05-06 17:43:26,223] INFO: Running order-2 model building {'bin_size_um': 20, 'max_range_um': 400, 'sample_size': 10000, 'coord_names': ['ss_mapping_x', 'ss_mapping_y'], 'model_dir': None, 'data_dir': None, 'plot_dir': None, 'do_plot': False, 'N_split': None, 'sample_seed': 1234}...\n",
      "[2022-05-06 17:43:26,223] INFO: Subsampling to 10000 of 337086x4234929 neurons (seed=1234)\n",
      "[2022-05-06 17:43:29,072] INFO: Extracting 1-dimensional (20) connection probabilities...\n"
     ]
    },
    {
     "name": "stderr",
     "output_type": "stream",
     "text": [
      "100% |########################################################################|\r"
     ]
    },
    {
     "name": "stdout",
     "output_type": "stream",
     "text": [
      "[2022-05-06 17:43:47,134] INFO: MODEL FIT: f(x) = 0.000269 * exp(-0.012949 * x)\n"
     ]
    },
    {
     "name": "stderr",
     "output_type": "stream",
     "text": [
      "\n"
     ]
    },
    {
     "name": "stdout",
     "output_type": "stream",
     "text": [
      ">>>>>M-TYPE 43 of 60 (L5_TPC:B)<<<<<\n",
      "[2022-05-06 17:43:48,382] INFO: Running order-2 model building {'bin_size_um': 20, 'max_range_um': 400, 'sample_size': 10000, 'coord_names': ['ss_mapping_x', 'ss_mapping_y'], 'model_dir': None, 'data_dir': None, 'plot_dir': None, 'do_plot': False, 'N_split': None, 'sample_seed': 1234}...\n",
      "[2022-05-06 17:43:48,382] INFO: Subsampling to 10000 of 265147x4234929 neurons (seed=1234)\n",
      "[2022-05-06 17:43:51,213] INFO: Extracting 1-dimensional (20) connection probabilities...\n"
     ]
    },
    {
     "name": "stderr",
     "output_type": "stream",
     "text": [
      "100% |########################################################################|\r"
     ]
    },
    {
     "name": "stdout",
     "output_type": "stream",
     "text": [
      "[2022-05-06 17:44:09,246] INFO: MODEL FIT: f(x) = 0.000260 * exp(-0.012587 * x)\n"
     ]
    },
    {
     "name": "stderr",
     "output_type": "stream",
     "text": [
      "\n"
     ]
    },
    {
     "name": "stdout",
     "output_type": "stream",
     "text": [
      ">>>>>M-TYPE 44 of 60 (L5_TPC:C)<<<<<\n",
      "[2022-05-06 17:44:12,715] INFO: Running order-2 model building {'bin_size_um': 20, 'max_range_um': 400, 'sample_size': 10000, 'coord_names': ['ss_mapping_x', 'ss_mapping_y'], 'model_dir': None, 'data_dir': None, 'plot_dir': None, 'do_plot': False, 'N_split': None, 'sample_seed': 1234}...\n",
      "[2022-05-06 17:44:12,716] INFO: Subsampling to 10000 of 48546x4234929 neurons (seed=1234)\n",
      "[2022-05-06 17:44:20,417] INFO: Extracting 1-dimensional (20) connection probabilities...\n"
     ]
    },
    {
     "name": "stderr",
     "output_type": "stream",
     "text": [
      "100% |########################################################################|\r"
     ]
    },
    {
     "name": "stdout",
     "output_type": "stream",
     "text": [
      "[2022-05-06 17:44:38,865] INFO: MODEL FIT: f(x) = 0.003483 * exp(-0.010081 * x)\n"
     ]
    },
    {
     "name": "stderr",
     "output_type": "stream",
     "text": [
      "\n"
     ]
    },
    {
     "name": "stdout",
     "output_type": "stream",
     "text": [
      ">>>>>M-TYPE 45 of 60 (L5_UPC)<<<<<\n",
      "[2022-05-06 17:44:42,227] INFO: Running order-2 model building {'bin_size_um': 20, 'max_range_um': 400, 'sample_size': 10000, 'coord_names': ['ss_mapping_x', 'ss_mapping_y'], 'model_dir': None, 'data_dir': None, 'plot_dir': None, 'do_plot': False, 'N_split': None, 'sample_seed': 1234}...\n",
      "[2022-05-06 17:44:42,228] INFO: Subsampling to 10000 of 47079x4234929 neurons (seed=1234)\n",
      "[2022-05-06 17:44:49,949] INFO: Extracting 1-dimensional (20) connection probabilities...\n"
     ]
    },
    {
     "name": "stderr",
     "output_type": "stream",
     "text": [
      "100% |########################################################################|\r"
     ]
    },
    {
     "name": "stdout",
     "output_type": "stream",
     "text": [
      "[2022-05-06 17:45:08,512] INFO: MODEL FIT: f(x) = 0.003446 * exp(-0.009777 * x)\n"
     ]
    },
    {
     "name": "stderr",
     "output_type": "stream",
     "text": [
      "\n"
     ]
    },
    {
     "name": "stdout",
     "output_type": "stream",
     "text": [
      ">>>>>M-TYPE 46 of 60 (L6_BP)<<<<<\n",
      ">>>>>M-TYPE 47 of 60 (L6_BPC)<<<<<\n",
      "[2022-05-06 17:45:09,032] INFO: Running order-2 model building {'bin_size_um': 20, 'max_range_um': 400, 'sample_size': 10000, 'coord_names': ['ss_mapping_x', 'ss_mapping_y'], 'model_dir': None, 'data_dir': None, 'plot_dir': None, 'do_plot': False, 'N_split': None, 'sample_seed': 1234}...\n",
      "[2022-05-06 17:45:09,033] INFO: Subsampling to 10000 of 248357x4234929 neurons (seed=1234)\n",
      "[2022-05-06 17:45:11,691] INFO: Extracting 1-dimensional (20) connection probabilities...\n"
     ]
    },
    {
     "name": "stderr",
     "output_type": "stream",
     "text": [
      "100% |########################################################################|\r"
     ]
    },
    {
     "name": "stdout",
     "output_type": "stream",
     "text": [
      "[2022-05-06 17:45:29,613] INFO: MODEL FIT: f(x) = 0.000120 * exp(-0.013457 * x)\n"
     ]
    },
    {
     "name": "stderr",
     "output_type": "stream",
     "text": [
      "\n"
     ]
    },
    {
     "name": "stdout",
     "output_type": "stream",
     "text": [
      ">>>>>M-TYPE 48 of 60 (L6_BTC)<<<<<\n",
      ">>>>>M-TYPE 49 of 60 (L6_CHC)<<<<<\n",
      ">>>>>M-TYPE 50 of 60 (L6_DBC)<<<<<\n",
      ">>>>>M-TYPE 51 of 60 (L6_HPC)<<<<<\n",
      "[2022-05-06 17:45:30,113] INFO: Running order-2 model building {'bin_size_um': 20, 'max_range_um': 400, 'sample_size': 10000, 'coord_names': ['ss_mapping_x', 'ss_mapping_y'], 'model_dir': None, 'data_dir': None, 'plot_dir': None, 'do_plot': False, 'N_split': None, 'sample_seed': 1234}...\n",
      "[2022-05-06 17:45:30,114] INFO: Subsampling to 10000 of 227071x4234929 neurons (seed=1234)\n",
      "[2022-05-06 17:45:33,360] INFO: Extracting 1-dimensional (20) connection probabilities...\n"
     ]
    },
    {
     "name": "stderr",
     "output_type": "stream",
     "text": [
      "100% |########################################################################|\r"
     ]
    },
    {
     "name": "stdout",
     "output_type": "stream",
     "text": [
      "[2022-05-06 17:45:51,348] INFO: MODEL FIT: f(x) = 0.000123 * exp(-0.013631 * x)\n"
     ]
    },
    {
     "name": "stderr",
     "output_type": "stream",
     "text": [
      "\n"
     ]
    },
    {
     "name": "stdout",
     "output_type": "stream",
     "text": [
      ">>>>>M-TYPE 52 of 60 (L6_IPC)<<<<<\n",
      "[2022-05-06 17:45:51,992] INFO: Running order-2 model building {'bin_size_um': 20, 'max_range_um': 400, 'sample_size': 10000, 'coord_names': ['ss_mapping_x', 'ss_mapping_y'], 'model_dir': None, 'data_dir': None, 'plot_dir': None, 'do_plot': False, 'N_split': None, 'sample_seed': 1234}...\n",
      "[2022-05-06 17:45:51,993] INFO: Subsampling to 10000 of 312221x4234929 neurons (seed=1234)\n",
      "[2022-05-06 17:45:54,745] INFO: Extracting 1-dimensional (20) connection probabilities...\n"
     ]
    },
    {
     "name": "stderr",
     "output_type": "stream",
     "text": [
      "100% |########################################################################|\r"
     ]
    },
    {
     "name": "stdout",
     "output_type": "stream",
     "text": [
      "[2022-05-06 17:46:12,654] INFO: MODEL FIT: f(x) = 0.000122 * exp(-0.013469 * x)\n"
     ]
    },
    {
     "name": "stderr",
     "output_type": "stream",
     "text": [
      "\n"
     ]
    },
    {
     "name": "stdout",
     "output_type": "stream",
     "text": [
      ">>>>>M-TYPE 53 of 60 (L6_LBC)<<<<<\n",
      ">>>>>M-TYPE 54 of 60 (L6_MC)<<<<<\n",
      ">>>>>M-TYPE 55 of 60 (L6_NBC)<<<<<\n",
      ">>>>>M-TYPE 56 of 60 (L6_NGC)<<<<<\n",
      ">>>>>M-TYPE 57 of 60 (L6_SBC)<<<<<\n",
      ">>>>>M-TYPE 58 of 60 (L6_TPC:A)<<<<<\n",
      "[2022-05-06 17:46:13,245] INFO: Running order-2 model building {'bin_size_um': 20, 'max_range_um': 400, 'sample_size': 10000, 'coord_names': ['ss_mapping_x', 'ss_mapping_y'], 'model_dir': None, 'data_dir': None, 'plot_dir': None, 'do_plot': False, 'N_split': None, 'sample_seed': 1234}...\n",
      "[2022-05-06 17:46:13,245] INFO: Subsampling to 10000 of 268228x4234929 neurons (seed=1234)\n",
      "[2022-05-06 17:46:15,973] INFO: Extracting 1-dimensional (20) connection probabilities...\n"
     ]
    },
    {
     "name": "stderr",
     "output_type": "stream",
     "text": [
      "100% |########################################################################|\r"
     ]
    },
    {
     "name": "stdout",
     "output_type": "stream",
     "text": [
      "[2022-05-06 17:46:33,883] INFO: MODEL FIT: f(x) = 0.000115 * exp(-0.012761 * x)\n"
     ]
    },
    {
     "name": "stderr",
     "output_type": "stream",
     "text": [
      "\n"
     ]
    },
    {
     "name": "stdout",
     "output_type": "stream",
     "text": [
      ">>>>>M-TYPE 59 of 60 (L6_TPC:C)<<<<<\n",
      "[2022-05-06 17:46:34,260] INFO: Running order-2 model building {'bin_size_um': 20, 'max_range_um': 400, 'sample_size': 10000, 'coord_names': ['ss_mapping_x', 'ss_mapping_y'], 'model_dir': None, 'data_dir': None, 'plot_dir': None, 'do_plot': False, 'N_split': None, 'sample_seed': 1234}...\n",
      "[2022-05-06 17:46:34,261] INFO: Subsampling to 10000 of 178817x4234929 neurons (seed=1234)\n",
      "[2022-05-06 17:46:36,952] INFO: Extracting 1-dimensional (20) connection probabilities...\n"
     ]
    },
    {
     "name": "stderr",
     "output_type": "stream",
     "text": [
      "100% |########################################################################|\r"
     ]
    },
    {
     "name": "stdout",
     "output_type": "stream",
     "text": [
      "[2022-05-06 17:46:54,905] INFO: MODEL FIT: f(x) = 0.000114 * exp(-0.012925 * x)\n"
     ]
    },
    {
     "name": "stderr",
     "output_type": "stream",
     "text": [
      "\n"
     ]
    },
    {
     "name": "stdout",
     "output_type": "stream",
     "text": [
      ">>>>>M-TYPE 60 of 60 (L6_UPC)<<<<<\n",
      "[2022-05-06 17:46:55,199] INFO: Running order-2 model building {'bin_size_um': 20, 'max_range_um': 400, 'sample_size': 10000, 'coord_names': ['ss_mapping_x', 'ss_mapping_y'], 'model_dir': None, 'data_dir': None, 'plot_dir': None, 'do_plot': False, 'N_split': None, 'sample_seed': 1234}...\n",
      "[2022-05-06 17:46:55,199] INFO: Subsampling to 10000 of 141919x4234929 neurons (seed=1234)\n",
      "[2022-05-06 17:46:57,873] INFO: Extracting 1-dimensional (20) connection probabilities...\n"
     ]
    },
    {
     "name": "stderr",
     "output_type": "stream",
     "text": [
      "100% |########################################################################|\r"
     ]
    },
    {
     "name": "stdout",
     "output_type": "stream",
     "text": [
      "[2022-05-06 17:47:16,178] INFO: MODEL FIT: f(x) = 0.000116 * exp(-0.012822 * x)\n"
     ]
    },
    {
     "name": "stderr",
     "output_type": "stream",
     "text": [
      "\n"
     ]
    }
   ],
   "source": [
    "# Extract validation model coefficients\n",
    "# config_dict = {'model_name': 'ValidationMidrange', 'model_order': 2, 'bin_size_um': 20, 'max_range_um': 400, 'sample_size': 10000, 'sample_seed': 1234, 'coord_names': ['ss_mapping_x', 'ss_mapping_y'], 'do_plot': False}\n",
    "config_dict = {'bin_size_um': 20, 'max_range_um': 400, 'sample_size': 10000, 'sample_seeds': [1234], 'coord_names': ['ss_mapping_x', 'ss_mapping_y']}\n",
    "\n",
    "coefs_validation = np.full((len(mtypes), len(coef_names)), np.nan)\n",
    "for midx_pre, mt_pre in enumerate(mtypes):\n",
    "    print(f'>>>>>M-TYPE {midx_pre + 1} of {len(mtypes)} ({mt_pre})<<<<<')\n",
    "\n",
    "    # Extracxt PRE neuron table\n",
    "    nrn_sel_pre = nrn_table[nrn_table['mtype'] == mt_pre].index\n",
    "    nrn_table_pre = nrn_table.loc[nrn_sel_pre]\n",
    "\n",
    "    # Extract PRE x ALL adj. matrix\n",
    "    adj_matrix_pathway = adj_matrix[nrn_sel_pre, :]\n",
    "\n",
    "    # Build model\n",
    "    if adj_matrix_pathway.count_nonzero() > 0:\n",
    "        model_params_2 = modelling.conn_prob_2nd_order_pathway_model(adj_matrix_pathway, nrn_table_pre, nrn_table, **config_dict)\n",
    "        coefs_validation[midx_pre, :] = model_params_2[coef_names].mean(0)"
   ]
  },
  {
   "cell_type": "code",
   "execution_count": 25,
   "metadata": {},
   "outputs": [
    {
     "data": {
      "image/png": "[encoded data removed]",
      "text/plain": [
       "<Figure size 1152x288 with 2 Axes>"
      ]
     },
     "metadata": {
      "needs_background": "light"
     },
     "output_type": "display_data"
    }
   ],
   "source": [
    "plt.figure(figsize=(16, 4))\n",
    "for cidx, cname in enumerate(coef_names):\n",
    "    plt.subplot(len(coef_names), 1, cidx + 1)\n",
    "    plt.bar(range(len(mtypes)), coef_tables[cidx]['mean'])\n",
    "    plt.plot(range(len(mtypes)), coefs_validation[:, cidx], 'rx')\n",
    "    plt.xlim([-0.5, len(mtypes) - 0.5])\n",
    "    if cidx == len(coef_names) - 1:\n",
    "        plt.xticks(range(len(mtypes)), labels=mtypes, rotation=90)\n",
    "    else:\n",
    "        plt.xticks(range(len(mtypes)), labels=[])\n",
    "    plt.grid()\n",
    "    plt.gca().set_axisbelow(True)\n",
    "    plt.ylabel(cname)\n",
    "plt.tight_layout()\n",
    "plt.show()"
   ]
  },
  {
   "cell_type": "code",
   "execution_count": null,
   "metadata": {},
   "outputs": [],
   "source": []
  }
 ],
 "metadata": {
  "kernelspec": {
   "display_name": "ToposampleKernel",
   "language": "python",
   "name": "toposamplekernel"
  },
  "language_info": {
   "codemirror_mode": {
    "name": "ipython",
    "version": 3
   },
   "file_extension": ".py",
   "mimetype": "text/x-python",
   "name": "python",
   "nbconvert_exporter": "python",
   "pygments_lexer": "ipython3",
   "version": "3.7.4"
  }
 },
 "nbformat": 4,
 "nbformat_minor": 4
}
