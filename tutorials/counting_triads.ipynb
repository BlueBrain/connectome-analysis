{
 "cells": [
  {
   "cell_type": "markdown",
   "metadata": {},
   "source": [
    "# Counting triad motifs"
   ]
  },
  {
   "cell_type": "markdown",
   "metadata": {},
   "source": [
    "We can count all connected triad motifs (i.e. subgraphs on three nodes) in a given adjancecy matrix. \n",
    "In the figure below, we show all the possible isomorphism classes of connected triads.  The color of the nodes is given by the number of edges (from 2 to 6).  \n",
    "\n",
    "In the figure below, we show all the possible isomorphism classes of connected triads.  The color of the nodes is given by the number of edges (from 2 to 6).  We also provide the tuple we use to identify each in the code base which is given by listing the edges as indexed in the matrix on the bottom right.   Finally, we also provide the  number of graphs in each isomorphism class.  To be properly representative, triad counts should be normalized by the number of graphs in its isomorphism class, also written in the figure. \n",
    "\n",
    "<img src=\"figs/triads.png\" alt=\"Alternative text\" />"
   ]
  },
  {
   "cell_type": "code",
   "execution_count": 1,
   "metadata": {},
   "outputs": [],
   "source": [
    "import numpy as np\n",
    "import scipy.sparse as sp\n",
    "from connalysis.network import topology"
   ]
  },
  {
   "cell_type": "markdown",
   "metadata": {},
   "source": [
    "We test this on a random network"
   ]
  },
  {
   "cell_type": "code",
   "execution_count": 2,
   "metadata": {},
   "outputs": [
    {
     "name": "stdout",
     "output_type": "stream",
     "text": [
      "Diagonal entries are all 0: True\n",
      "If false fill diagonal with 0s!!\n"
     ]
    }
   ],
   "source": [
    "#Create random sparse matrix with zero in the diagonal\n",
    "N=100 #number of nodes\n",
    "A=sp.random(N,N,density=0.2).astype(bool)\n",
    "A.setdiag(0)\n",
    "A.eliminate_zeros()\n",
    "print(f'Diagonal entries are all 0: {(np.count_nonzero(A.diagonal()!=0))==0}')\n",
    "print('If false fill diagonal with 0s!!')"
   ]
  },
  {
   "cell_type": "markdown",
   "metadata": {},
   "source": [
    "To count the number of triads in a graph whose adjacency matrix is given by A simply call "
   ]
  },
  {
   "cell_type": "code",
   "execution_count": 3,
   "metadata": {},
   "outputs": [
    {
     "name": "stdout",
     "output_type": "stream",
     "text": [
      "Testing 4950 potential triadic pairs\n",
      "Time spent finding triads: 0.10502290725708008\n",
      "Found 47346 connected triads\n",
      "Time spent classifying triads: 1.3513882160186768\n"
     ]
    },
    {
     "data": {
      "text/plain": [
       "array([15642,  7853,  7892,  3887,  4029,  3961,  1310,   518,   973,\n",
       "         497,   517,   259,     8])"
      ]
     },
     "execution_count": 3,
     "metadata": {},
     "output_type": "execute_result"
    }
   ],
   "source": [
    "topology.count_triads_fully_connected(A)"
   ]
  },
  {
   "cell_type": "markdown",
   "metadata": {},
   "source": [
    "Using the flag ``normalized = True``, gives the results normalized by the number of isomophisms classes in each group. "
   ]
  },
  {
   "cell_type": "code",
   "execution_count": 4,
   "metadata": {},
   "outputs": [
    {
     "name": "stdout",
     "output_type": "stream",
     "text": [
      "Testing 4950 potential triadic pairs\n",
      "Time spent finding triads: 0.057557106018066406\n",
      "Found 47346 connected triads\n",
      "Time spent classifying triads: 1.454085111618042\n"
     ]
    },
    {
     "data": {
      "text/plain": [
       "array([2607.        , 2617.66666667, 2630.66666667,  647.83333333,\n",
       "        671.5       ,  660.16666667,  655.        ,  172.66666667,\n",
       "        162.16666667,  165.66666667,  172.33333333,   43.16666667,\n",
       "          8.        ])"
      ]
     },
     "execution_count": 4,
     "metadata": {},
     "output_type": "execute_result"
    }
   ],
   "source": [
    "topology.count_triads_fully_connected(A,return_normalized=True)"
   ]
  }
 ],
 "metadata": {
  "kernelspec": {
   "display_name": "Python 3 (ipykernel)",
   "language": "python",
   "name": "python3"
  },
  "language_info": {
   "codemirror_mode": {
    "name": "ipython",
    "version": 3
   },
   "file_extension": ".py",
   "mimetype": "text/x-python",
   "name": "python",
   "nbconvert_exporter": "python",
   "pygments_lexer": "ipython3",
   "version": "3.8.3"
  }
 },
 "nbformat": 4,
 "nbformat_minor": 4
}
