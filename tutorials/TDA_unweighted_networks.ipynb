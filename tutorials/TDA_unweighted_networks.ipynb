{
 "cells": [
  {
   "cell_type": "markdown",
   "metadata": {},
   "source": [
    "# Example notebook for topological analysis of networks \n",
    "\n",
    "This is an example notebook topological analyses that can be run on (un)weighted networks "
   ]
  },
  {
   "cell_type": "code",
   "execution_count": 1,
   "metadata": {},
   "outputs": [],
   "source": [
    "import numpy as np\n",
    "import pandas as pd\n",
    "import matplotlib.pyplot as plt\n",
    "import matplotlib \n",
    "import networkx as nx\n",
    "import seaborn as sns\n",
    "import scipy.sparse as sp\n",
    "from connalysis.network import topology"
   ]
  },
  {
   "cell_type": "markdown",
   "metadata": {},
   "source": [
    "## Unweighted networks "
   ]
  },
  {
   "cell_type": "markdown",
   "metadata": {},
   "source": [
    "We will run all our analyses on a small sparse matrix which we load below together with the properties of its \n",
    "neurons."
   ]
  },
  {
   "cell_type": "code",
   "execution_count": 2,
   "metadata": {},
   "outputs": [
    {
     "name": "stdout",
     "output_type": "stream",
     "text": [
      "INFO: Loaded connectivity and properties of 6719 neurons\n"
     ]
    },
    {
     "data": {
      "text/html": [
       "<div>\n",
       "<style scoped>\n",
       "    .dataframe tbody tr th:only-of-type {\n",
       "        vertical-align: middle;\n",
       "    }\n",
       "\n",
       "    .dataframe tbody tr th {\n",
       "        vertical-align: top;\n",
       "    }\n",
       "\n",
       "    .dataframe thead th {\n",
       "        text-align: right;\n",
       "    }\n",
       "</style>\n",
       "<table border=\"1\" class=\"dataframe\">\n",
       "  <thead>\n",
       "    <tr style=\"text-align: right;\">\n",
       "      <th></th>\n",
       "      <th></th>\n",
       "      <th>gid</th>\n",
       "      <th>x</th>\n",
       "      <th>y</th>\n",
       "      <th>z</th>\n",
       "      <th>synapse_class</th>\n",
       "      <th>layer</th>\n",
       "      <th>mtype</th>\n",
       "      <th>depth</th>\n",
       "    </tr>\n",
       "    <tr>\n",
       "      <th>circuit</th>\n",
       "      <th>subtarget</th>\n",
       "      <th></th>\n",
       "      <th></th>\n",
       "      <th></th>\n",
       "      <th></th>\n",
       "      <th></th>\n",
       "      <th></th>\n",
       "      <th></th>\n",
       "      <th></th>\n",
       "    </tr>\n",
       "  </thead>\n",
       "  <tbody>\n",
       "    <tr>\n",
       "      <th rowspan=\"11\" valign=\"top\">Bio_M</th>\n",
       "      <th>R0;C10</th>\n",
       "      <td>455</td>\n",
       "      <td>5349.881407</td>\n",
       "      <td>-2189.938376</td>\n",
       "      <td>-5461.554050</td>\n",
       "      <td>INH</td>\n",
       "      <td>1</td>\n",
       "      <td>L1_DAC</td>\n",
       "      <td>68.0</td>\n",
       "    </tr>\n",
       "    <tr>\n",
       "      <th>R0;C10</th>\n",
       "      <td>805</td>\n",
       "      <td>5435.330946</td>\n",
       "      <td>-2085.202960</td>\n",
       "      <td>-5411.225766</td>\n",
       "      <td>INH</td>\n",
       "      <td>1</td>\n",
       "      <td>L1_DAC</td>\n",
       "      <td>110.0</td>\n",
       "    </tr>\n",
       "    <tr>\n",
       "      <th>R0;C10</th>\n",
       "      <td>3930</td>\n",
       "      <td>5422.509430</td>\n",
       "      <td>-2121.012844</td>\n",
       "      <td>-5511.005647</td>\n",
       "      <td>INH</td>\n",
       "      <td>1</td>\n",
       "      <td>L1_DAC</td>\n",
       "      <td>36.0</td>\n",
       "    </tr>\n",
       "    <tr>\n",
       "      <th>R0;C10</th>\n",
       "      <td>4303</td>\n",
       "      <td>5441.431546</td>\n",
       "      <td>-1996.386178</td>\n",
       "      <td>-5491.911368</td>\n",
       "      <td>INH</td>\n",
       "      <td>1</td>\n",
       "      <td>L1_DAC</td>\n",
       "      <td>68.0</td>\n",
       "    </tr>\n",
       "    <tr>\n",
       "      <th>R0;C10</th>\n",
       "      <td>5384</td>\n",
       "      <td>5499.207748</td>\n",
       "      <td>-2019.563479</td>\n",
       "      <td>-5524.047901</td>\n",
       "      <td>INH</td>\n",
       "      <td>1</td>\n",
       "      <td>L1_DAC</td>\n",
       "      <td>36.0</td>\n",
       "    </tr>\n",
       "    <tr>\n",
       "      <th>...</th>\n",
       "      <td>...</td>\n",
       "      <td>...</td>\n",
       "      <td>...</td>\n",
       "      <td>...</td>\n",
       "      <td>...</td>\n",
       "      <td>...</td>\n",
       "      <td>...</td>\n",
       "      <td>...</td>\n",
       "    </tr>\n",
       "    <tr>\n",
       "      <th>R0;C10</th>\n",
       "      <td>4232821</td>\n",
       "      <td>4970.456268</td>\n",
       "      <td>-1674.815498</td>\n",
       "      <td>-5508.816697</td>\n",
       "      <td>INH</td>\n",
       "      <td>5</td>\n",
       "      <td>L5_BP</td>\n",
       "      <td>661.0</td>\n",
       "    </tr>\n",
       "    <tr>\n",
       "      <th>R0;C10</th>\n",
       "      <td>4233489</td>\n",
       "      <td>4910.327651</td>\n",
       "      <td>-1906.233362</td>\n",
       "      <td>-5480.629321</td>\n",
       "      <td>INH</td>\n",
       "      <td>5</td>\n",
       "      <td>L5_BP</td>\n",
       "      <td>569.0</td>\n",
       "    </tr>\n",
       "    <tr>\n",
       "      <th>R0;C10</th>\n",
       "      <td>4233767</td>\n",
       "      <td>4999.474608</td>\n",
       "      <td>-1794.127000</td>\n",
       "      <td>-5529.009608</td>\n",
       "      <td>INH</td>\n",
       "      <td>5</td>\n",
       "      <td>L5_BP</td>\n",
       "      <td>524.0</td>\n",
       "    </tr>\n",
       "    <tr>\n",
       "      <th>R0;C10</th>\n",
       "      <td>4233833</td>\n",
       "      <td>4853.452731</td>\n",
       "      <td>-1820.957586</td>\n",
       "      <td>-5495.073773</td>\n",
       "      <td>INH</td>\n",
       "      <td>5</td>\n",
       "      <td>L5_BP</td>\n",
       "      <td>626.0</td>\n",
       "    </tr>\n",
       "    <tr>\n",
       "      <th>R0;C10</th>\n",
       "      <td>4234008</td>\n",
       "      <td>4714.013589</td>\n",
       "      <td>-1722.643127</td>\n",
       "      <td>-5437.514361</td>\n",
       "      <td>INH</td>\n",
       "      <td>5</td>\n",
       "      <td>L5_BP</td>\n",
       "      <td>843.0</td>\n",
       "    </tr>\n",
       "  </tbody>\n",
       "</table>\n",
       "<p>6719 rows × 8 columns</p>\n",
       "</div>"
      ],
      "text/plain": [
       "                       gid            x            y            z   \n",
       "circuit subtarget                                                   \n",
       "Bio_M   R0;C10         455  5349.881407 -2189.938376 -5461.554050  \\\n",
       "        R0;C10         805  5435.330946 -2085.202960 -5411.225766   \n",
       "        R0;C10        3930  5422.509430 -2121.012844 -5511.005647   \n",
       "        R0;C10        4303  5441.431546 -1996.386178 -5491.911368   \n",
       "        R0;C10        5384  5499.207748 -2019.563479 -5524.047901   \n",
       "...                    ...          ...          ...          ...   \n",
       "        R0;C10     4232821  4970.456268 -1674.815498 -5508.816697   \n",
       "        R0;C10     4233489  4910.327651 -1906.233362 -5480.629321   \n",
       "        R0;C10     4233767  4999.474608 -1794.127000 -5529.009608   \n",
       "        R0;C10     4233833  4853.452731 -1820.957586 -5495.073773   \n",
       "        R0;C10     4234008  4714.013589 -1722.643127 -5437.514361   \n",
       "\n",
       "                  synapse_class  layer   mtype  depth  \n",
       "circuit subtarget                                      \n",
       "Bio_M   R0;C10              INH      1  L1_DAC   68.0  \n",
       "        R0;C10              INH      1  L1_DAC  110.0  \n",
       "        R0;C10              INH      1  L1_DAC   36.0  \n",
       "        R0;C10              INH      1  L1_DAC   68.0  \n",
       "        R0;C10              INH      1  L1_DAC   36.0  \n",
       "...                         ...    ...     ...    ...  \n",
       "        R0;C10              INH      5   L5_BP  661.0  \n",
       "        R0;C10              INH      5   L5_BP  569.0  \n",
       "        R0;C10              INH      5   L5_BP  524.0  \n",
       "        R0;C10              INH      5   L5_BP  626.0  \n",
       "        R0;C10              INH      5   L5_BP  843.0  \n",
       "\n",
       "[6719 rows x 8 columns]"
      ]
     },
     "metadata": {},
     "output_type": "display_data"
    }
   ],
   "source": [
    "# Load example data (adjacency matrix & neuron properties table)\n",
    "adj_file = './adj_r0c10.npz'\n",
    "nrn_file = './nodes_r0c10.h5'\n",
    "A = sp.load_npz(adj_file)\n",
    "nrn_table = pd.read_hdf(nrn_file)\n",
    "print(f'INFO: Loaded connectivity and properties of {nrn_table.shape[0]} neurons')\n",
    "display(nrn_table)"
   ]
  },
  {
   "cell_type": "markdown",
   "metadata": {},
   "source": [
    "We also create a small random sparse matrix with zero in the diagonal to demonstrate the more expensive tasks."
   ]
  },
  {
   "cell_type": "code",
   "execution_count": 3,
   "metadata": {},
   "outputs": [
    {
     "name": "stdout",
     "output_type": "stream",
     "text": [
      "Diagonal entries are all 0: True\n",
      "If false fill diagonal with 0s!!\n"
     ]
    }
   ],
   "source": [
    "N=100 #number of nodes\n",
    "A_small=sp.random(N,N,density=0.2).astype(bool)\n",
    "A_small.setdiag(0)\n",
    "A_small.eliminate_zeros()\n",
    "print(f'Diagonal entries are all 0: {(np.count_nonzero(A_small.diagonal()!=0))==0}')\n",
    "print('If false fill diagonal with 0s!!')"
   ]
  },
  {
   "cell_type": "markdown",
   "metadata": {},
   "source": [
    "### Degree distributions"
   ]
  },
  {
   "cell_type": "markdown",
   "metadata": {},
   "source": [
    "We first observe the degree distributions of the network."
   ]
  },
  {
   "cell_type": "code",
   "execution_count": 4,
   "metadata": {},
   "outputs": [
    {
     "data": {
      "image/png": "[encoded data removed]",
      "text/plain": [
       "<Figure size 1000x300 with 3 Axes>"
      ]
     },
     "metadata": {},
     "output_type": "display_data"
    }
   ],
   "source": [
    "#Getting standard pair-wise degrees\n",
    "df_degree=topology.node_degree(A,direction=(\"IN\", \"OUT\"))\n",
    "fig, axs = plt.subplots(1,3,figsize=(10,3))\n",
    "axs[0].set_title(\"In-degree\")\n",
    "axs[0].hist(df_degree[\"IN\"], bins=50)\n",
    "axs[1].set_title(\"Out-degree\")\n",
    "axs[1].hist(df_degree[\"OUT\"], bins=50)\n",
    "axs[2].set_title(\"Total-degree\")\n",
    "_=axs[2].hist(df_degree[\"OUT\"]+df_degree[\"IN\"], bins=50)\n"
   ]
  },
  {
   "cell_type": "markdown",
   "metadata": {},
   "source": [
    "### Simplex counts"
   ]
  },
  {
   "cell_type": "markdown",
   "metadata": {},
   "source": [
    "We can count the number of directed simplices, reciprocal simplices and undirected simplices.  The counts can always be trunctaed at a maximal dimension max_dim $\\geq$ 2.  A directed n-simplex is a set of $n+1$ nodes \n",
    "$$(v_0, v_1, \\ldots, v_n)$$ \n",
    "such that there is a directed edge $v_i\\to v_j$ in the network, whenever $i < j$.\n",
    "\n",
    "Similary, an undirected n-simplex is a set of $n+1$ nodes as above, such that there is an edge between any two pair of nodes.  Equivalently, its an all to all connected subnetwork on $n+1$ nodes in the underlying undirected network. \n",
    "\n",
    "Finally, a reciprocal simplex or bisimplex is a set of $n+1$ nodes such that every pair is reciprocally connected.\n",
    "\n",
    "In all cases we call $n$ the dimension on the simplex.  Below we show examples of 2-dimensional simplices.\n",
    "\n",
    "<img src=\"figs/2_simplices.png\" />\n",
    "\n",
    "We can count these with the commands below.  We can also truncate them at a maximum dimension or only count maximal motifs, i.e. motifs that are not contained in higher dimensional ones. "
   ]
  },
  {
   "cell_type": "code",
   "execution_count": 5,
   "metadata": {},
   "outputs": [
    {
     "name": "stdout",
     "output_type": "stream",
     "text": [
      "Directed simplex counts\n",
      "\n",
      "All\n"
     ]
    },
    {
     "data": {
      "text/plain": [
       "dim\n",
       "0       6719\n",
       "1     836167\n",
       "2    5146702\n",
       "3    2691553\n",
       "4     171035\n",
       "5       1667\n",
       "6          1\n",
       "Name: simplex_count, dtype: int64"
      ]
     },
     "metadata": {},
     "output_type": "display_data"
    },
    {
     "name": "stdout",
     "output_type": "stream",
     "text": [
      "\n",
      "Maximal\n"
     ]
    },
    {
     "data": {
      "text/plain": [
       "dim\n",
       "0          0\n",
       "1       1486\n",
       "2    1077150\n",
       "3    2029003\n",
       "4     162121\n",
       "5       1660\n",
       "6          1\n",
       "Name: max_simplex_count, dtype: int64"
      ]
     },
     "metadata": {},
     "output_type": "display_data"
    },
    {
     "name": "stdout",
     "output_type": "stream",
     "text": [
      "\n",
      "\n",
      "Undirected simplex counts truncated at dimension 3\n",
      "Maximal\n"
     ]
    },
    {
     "data": {
      "text/plain": [
       "dim\n",
       "0          0\n",
       "1       1086\n",
       "2     826526\n",
       "3    2248587\n",
       "Name: max_simplex_count, dtype: int64"
      ]
     },
     "metadata": {},
     "output_type": "display_data"
    },
    {
     "name": "stdout",
     "output_type": "stream",
     "text": [
      "\n",
      "\n",
      "Maximal reciprocal simplex counts\n",
      "All\n"
     ]
    },
    {
     "data": {
      "text/plain": [
       "dim\n",
       "0     6719\n",
       "1    12534\n",
       "2      146\n",
       "3        1\n",
       "Name: simplex_count, dtype: int64"
      ]
     },
     "metadata": {},
     "output_type": "display_data"
    }
   ],
   "source": [
    "print(\"Directed simplex counts\")\n",
    "simplex_type='directed'\n",
    "print(\"\\nAll\")\n",
    "display(topology.simplex_counts(A,max_simplices=False, threads=1,max_dim=-1,simplex_type=simplex_type))\n",
    "print(\"\\nMaximal\")\n",
    "display(topology.simplex_counts(A,max_simplices=True,threads=1,max_dim=-1,simplex_type=simplex_type))\n",
    "\n",
    "print(\"\\n\\nUndirected simplex counts truncated at dimension 3\")\n",
    "simplex_type='undirected'\n",
    "print(\"Maximal\")\n",
    "display(topology.simplex_counts(A,max_simplices=True, threads=1,max_dim=3,simplex_type=simplex_type))\n",
    "\n",
    "print(\"\\n\\nMaximal reciprocal simplex counts\")\n",
    "simplex_type='reciprocal'\n",
    "print(\"All\")\n",
    "display(topology.simplex_counts(A,max_simplices=False, threads=1,max_dim=-1,simplex_type=simplex_type))\n"
   ]
  },
  {
   "cell_type": "markdown",
   "metadata": {},
   "source": [
    "We can summarize the results above in a plot"
   ]
  },
  {
   "cell_type": "code",
   "execution_count": 6,
   "metadata": {},
   "outputs": [
    {
     "data": {
      "image/png": "[encoded data removed]",
      "text/plain": [
       "<Figure size 1200x500 with 2 Axes>"
      ]
     },
     "metadata": {},
     "output_type": "display_data"
    }
   ],
   "source": [
    "fig, axs = plt.subplots(1,2, figsize=(12,5))\n",
    "simplex_types=['directed', 'reciprocal', 'undirected']\n",
    "colors=['C0', 'C1','C2']\n",
    "axs[0].set_title(\"Simplex motifs\")\n",
    "axs[1].set_title(\"Maximal simplex motifs\")\n",
    "\n",
    "for i, simplex_type in enumerate(simplex_types):\n",
    "    axs[0].plot(topology.simplex_counts(A,max_simplices=False, simplex_type=simplex_type), \n",
    "                marker = '*', color=f'C{i}', label=simplex_type)\n",
    "    axs[1].plot(topology.simplex_counts(A,max_simplices=True, simplex_type=simplex_type), \n",
    "                marker = '*', color=f'C{i}', label=simplex_type)\n",
    "axs[1].legend(frameon=False, bbox_to_anchor=(1.4,1))\n",
    "\n",
    "for i in [0,1]:\n",
    "    axs[i].set_xlabel(\"Dimension\")\n",
    "    axs[i].set_ylabel(\"Counts\")\n",
    "    axs[i].xaxis.set_major_locator(matplotlib.ticker.MaxNLocator(integer=True))\n"
   ]
  },
  {
   "cell_type": "markdown",
   "metadata": {},
   "source": [
    "We can also get normalized simplex counts.  A number between 0 and 1 that counts the number of directed simplex counts relative to the maximal possible number of simplex counts given the number of undirected simplices in the network."
   ]
  },
  {
   "cell_type": "code",
   "execution_count": 7,
   "metadata": {},
   "outputs": [
    {
     "data": {
      "text/plain": [
       "dim\n",
       "1    0.507609\n",
       "2    0.158282\n",
       "3    0.032260\n",
       "4    0.004289\n",
       "5    0.000343\n",
       "6    0.000006\n",
       "Name: normalized_simplex_counts, dtype: float64"
      ]
     },
     "metadata": {},
     "output_type": "display_data"
    },
    {
     "data": {
      "image/png": "[encoded data removed]",
      "text/plain": [
       "<Figure size 640x480 with 1 Axes>"
      ]
     },
     "metadata": {},
     "output_type": "display_data"
    }
   ],
   "source": [
    "counts=topology.normalized_simplex_counts(A)\n",
    "display(counts)\n",
    "plt.plot(counts[counts!=0], marker=\"*\")\n",
    "plt.xticks(counts.index)\n",
    "plt.ylabel(\"Normalized counts\")\n",
    "_=plt.xlabel(\"Dimensions\")"
   ]
  },
  {
   "cell_type": "markdown",
   "metadata": {},
   "source": [
    "# Generalized in-degree"
   ]
  },
  {
   "cell_type": "markdown",
   "metadata": {},
   "source": [
    "We can use the notion of a simplex to define generalized degrees i.e. number of $k$-simplices that map to or from a node.  We can choose these simplices to be \"directed\", \"undirected\" or \"reciprocal\".  One can think of these as non-local versions of degree.  Since not only the number of nodes that map to given node matters, but also how those are interconnected to each other."
   ]
  },
  {
   "cell_type": "code",
   "execution_count": 8,
   "metadata": {
    "scrolled": false
   },
   "outputs": [
    {
     "data": {
      "image/png": "[encoded data removed]",
      "text/plain": [
       "<Figure size 1500x500 with 10 Axes>"
      ]
     },
     "metadata": {},
     "output_type": "display_data"
    }
   ],
   "source": [
    "df_degrees=topology.node_k_degree(A)\n",
    "max_dim=df_degrees.shape[1]//2+1\n",
    "fig, axs= plt.subplots(2,max_dim-1,figsize=(15,5))\n",
    "for i in np.arange(2, max_dim+1):\n",
    "    axs[0,i-2].set_title(f\"Dimension {i}\")\n",
    "    axs[0,0].set_ylabel(\"In degree\")\n",
    "    axs[0,i-2].hist(df_degrees[f'{i}_in_degree'])\n",
    "    axs[1,0].set_ylabel(\"Out degree\")\n",
    "    axs[1,i-2].hist(df_degrees[f'{i}_out_degree'])"
   ]
  },
  {
   "cell_type": "markdown",
   "metadata": {},
   "source": [
    "We can also compute the generalized in degree from a subset of the vertices e.g., a ``source population`` into the remaining vertices"
   ]
  },
  {
   "cell_type": "code",
   "execution_count": 9,
   "metadata": {},
   "outputs": [
    {
     "name": "stdout",
     "output_type": "stream",
     "text": [
      "[2023-08-03 16:06:56,614] INFO: COMPUTE list of simplices by dimension\n"
     ]
    },
    {
     "data": {
      "text/html": [
       "<div>\n",
       "<style scoped>\n",
       "    .dataframe tbody tr th:only-of-type {\n",
       "        vertical-align: middle;\n",
       "    }\n",
       "\n",
       "    .dataframe tbody tr th {\n",
       "        vertical-align: top;\n",
       "    }\n",
       "\n",
       "    .dataframe thead th {\n",
       "        text-align: right;\n",
       "    }\n",
       "</style>\n",
       "<table border=\"1\" class=\"dataframe\">\n",
       "  <thead>\n",
       "    <tr style=\"text-align: right;\">\n",
       "      <th>dim</th>\n",
       "      <th>1</th>\n",
       "      <th>2</th>\n",
       "      <th>3</th>\n",
       "      <th>4</th>\n",
       "      <th>5</th>\n",
       "    </tr>\n",
       "  </thead>\n",
       "  <tbody>\n",
       "    <tr>\n",
       "      <th>0</th>\n",
       "      <td>36</td>\n",
       "      <td>106</td>\n",
       "      <td>68</td>\n",
       "      <td>12</td>\n",
       "      <td>0</td>\n",
       "    </tr>\n",
       "    <tr>\n",
       "      <th>1</th>\n",
       "      <td>29</td>\n",
       "      <td>44</td>\n",
       "      <td>2</td>\n",
       "      <td>0</td>\n",
       "      <td>0</td>\n",
       "    </tr>\n",
       "    <tr>\n",
       "      <th>2</th>\n",
       "      <td>24</td>\n",
       "      <td>39</td>\n",
       "      <td>7</td>\n",
       "      <td>0</td>\n",
       "      <td>0</td>\n",
       "    </tr>\n",
       "    <tr>\n",
       "      <th>3</th>\n",
       "      <td>27</td>\n",
       "      <td>46</td>\n",
       "      <td>5</td>\n",
       "      <td>0</td>\n",
       "      <td>0</td>\n",
       "    </tr>\n",
       "    <tr>\n",
       "      <th>4</th>\n",
       "      <td>17</td>\n",
       "      <td>14</td>\n",
       "      <td>0</td>\n",
       "      <td>0</td>\n",
       "      <td>0</td>\n",
       "    </tr>\n",
       "    <tr>\n",
       "      <th>...</th>\n",
       "      <td>...</td>\n",
       "      <td>...</td>\n",
       "      <td>...</td>\n",
       "      <td>...</td>\n",
       "      <td>...</td>\n",
       "    </tr>\n",
       "    <tr>\n",
       "      <th>6714</th>\n",
       "      <td>6</td>\n",
       "      <td>2</td>\n",
       "      <td>0</td>\n",
       "      <td>0</td>\n",
       "      <td>0</td>\n",
       "    </tr>\n",
       "    <tr>\n",
       "      <th>6715</th>\n",
       "      <td>5</td>\n",
       "      <td>1</td>\n",
       "      <td>0</td>\n",
       "      <td>0</td>\n",
       "      <td>0</td>\n",
       "    </tr>\n",
       "    <tr>\n",
       "      <th>6716</th>\n",
       "      <td>4</td>\n",
       "      <td>1</td>\n",
       "      <td>0</td>\n",
       "      <td>0</td>\n",
       "      <td>0</td>\n",
       "    </tr>\n",
       "    <tr>\n",
       "      <th>6717</th>\n",
       "      <td>2</td>\n",
       "      <td>0</td>\n",
       "      <td>0</td>\n",
       "      <td>0</td>\n",
       "      <td>0</td>\n",
       "    </tr>\n",
       "    <tr>\n",
       "      <th>6718</th>\n",
       "      <td>2</td>\n",
       "      <td>0</td>\n",
       "      <td>0</td>\n",
       "      <td>0</td>\n",
       "      <td>0</td>\n",
       "    </tr>\n",
       "  </tbody>\n",
       "</table>\n",
       "<p>5802 rows × 5 columns</p>\n",
       "</div>"
      ],
      "text/plain": [
       "dim    1    2   3   4  5\n",
       "0     36  106  68  12  0\n",
       "1     29   44   2   0  0\n",
       "2     24   39   7   0  0\n",
       "3     27   46   5   0  0\n",
       "4     17   14   0   0  0\n",
       "...   ..  ...  ..  .. ..\n",
       "6714   6    2   0   0  0\n",
       "6715   5    1   0   0  0\n",
       "6716   4    1   0   0  0\n",
       "6717   2    0   0   0  0\n",
       "6718   2    0   0   0  0\n",
       "\n",
       "[5802 rows x 5 columns]"
      ]
     },
     "metadata": {},
     "output_type": "display_data"
    },
    {
     "name": "stdout",
     "output_type": "stream",
     "text": [
      "Target population:\n",
      "                        gid            x            y            z   \n",
      "circuit subtarget                                                   \n",
      "Bio_M   R0;C10         455  5349.881407 -2189.938376 -5461.554050  \\\n",
      "        R0;C10         805  5435.330946 -2085.202960 -5411.225766   \n",
      "        R0;C10        3930  5422.509430 -2121.012844 -5511.005647   \n",
      "        R0;C10        4303  5441.431546 -1996.386178 -5491.911368   \n",
      "        R0;C10        5384  5499.207748 -2019.563479 -5524.047901   \n",
      "...                    ...          ...          ...          ...   \n",
      "        R0;C10     4232821  4970.456268 -1674.815498 -5508.816697   \n",
      "        R0;C10     4233489  4910.327651 -1906.233362 -5480.629321   \n",
      "        R0;C10     4233767  4999.474608 -1794.127000 -5529.009608   \n",
      "        R0;C10     4233833  4853.452731 -1820.957586 -5495.073773   \n",
      "        R0;C10     4234008  4714.013589 -1722.643127 -5437.514361   \n",
      "\n",
      "                  synapse_class  layer   mtype  depth  \n",
      "circuit subtarget                                      \n",
      "Bio_M   R0;C10              INH      1  L1_DAC   68.0  \n",
      "        R0;C10              INH      1  L1_DAC  110.0  \n",
      "        R0;C10              INH      1  L1_DAC   36.0  \n",
      "        R0;C10              INH      1  L1_DAC   68.0  \n",
      "        R0;C10              INH      1  L1_DAC   36.0  \n",
      "...                         ...    ...     ...    ...  \n",
      "        R0;C10              INH      5   L5_BP  661.0  \n",
      "        R0;C10              INH      5   L5_BP  569.0  \n",
      "        R0;C10              INH      5   L5_BP  524.0  \n",
      "        R0;C10              INH      5   L5_BP  626.0  \n",
      "        R0;C10              INH      5   L5_BP  843.0  \n",
      "\n",
      "[5802 rows x 8 columns]\n"
     ]
    }
   ],
   "source": [
    "source_pop=np.where(nrn_table['layer'].to_numpy()==2)[0] # Consider layer 2 as the source population\n",
    "max_simplices=True # Consider only maximal simplices\n",
    "max_dim=-1 # Consider all dimensions\n",
    "degs=topology.in_degree_from_pop(A,source_pop) # Generalized in degree from source_pop indexed by the target population\n",
    "display(degs) \n",
    "print(\"Target population:\\n\", nrn_table.iloc[degs.index]) # target population "
   ]
  },
  {
   "cell_type": "markdown",
   "metadata": {},
   "source": [
    "# Node participation on simplex motifs as a  centrality metric "
   ]
  },
  {
   "cell_type": "markdown",
   "metadata": {},
   "source": [
    "We can compute the number of simplices a node is part of.  This is a form of centrality metric, which is directed, undirected or recurrent depending on the type of simplex used.  We show how to compute these below. "
   ]
  },
  {
   "cell_type": "code",
   "execution_count": 10,
   "metadata": {},
   "outputs": [
    {
     "name": "stdout",
     "output_type": "stream",
     "text": [
      "Count node participation in directed simplices (a directed notion of centrality)\n"
     ]
    },
    {
     "data": {
      "text/html": [
       "<div>\n",
       "<style scoped>\n",
       "    .dataframe tbody tr th:only-of-type {\n",
       "        vertical-align: middle;\n",
       "    }\n",
       "\n",
       "    .dataframe tbody tr th {\n",
       "        vertical-align: top;\n",
       "    }\n",
       "\n",
       "    .dataframe thead th {\n",
       "        text-align: right;\n",
       "    }\n",
       "</style>\n",
       "<table border=\"1\" class=\"dataframe\">\n",
       "  <thead>\n",
       "    <tr style=\"text-align: right;\">\n",
       "      <th>node</th>\n",
       "      <th>0</th>\n",
       "      <th>1</th>\n",
       "      <th>2</th>\n",
       "      <th>3</th>\n",
       "      <th>4</th>\n",
       "      <th>5</th>\n",
       "      <th>6</th>\n",
       "    </tr>\n",
       "  </thead>\n",
       "  <tbody>\n",
       "    <tr>\n",
       "      <th>0</th>\n",
       "      <td>1</td>\n",
       "      <td>282</td>\n",
       "      <td>2377</td>\n",
       "      <td>1366</td>\n",
       "      <td>96</td>\n",
       "      <td>0</td>\n",
       "      <td>0</td>\n",
       "    </tr>\n",
       "    <tr>\n",
       "      <th>1</th>\n",
       "      <td>1</td>\n",
       "      <td>183</td>\n",
       "      <td>1046</td>\n",
       "      <td>398</td>\n",
       "      <td>15</td>\n",
       "      <td>0</td>\n",
       "      <td>0</td>\n",
       "    </tr>\n",
       "    <tr>\n",
       "      <th>2</th>\n",
       "      <td>1</td>\n",
       "      <td>269</td>\n",
       "      <td>2251</td>\n",
       "      <td>1224</td>\n",
       "      <td>51</td>\n",
       "      <td>0</td>\n",
       "      <td>0</td>\n",
       "    </tr>\n",
       "    <tr>\n",
       "      <th>3</th>\n",
       "      <td>1</td>\n",
       "      <td>285</td>\n",
       "      <td>2517</td>\n",
       "      <td>1491</td>\n",
       "      <td>92</td>\n",
       "      <td>0</td>\n",
       "      <td>0</td>\n",
       "    </tr>\n",
       "    <tr>\n",
       "      <th>4</th>\n",
       "      <td>1</td>\n",
       "      <td>208</td>\n",
       "      <td>1309</td>\n",
       "      <td>545</td>\n",
       "      <td>41</td>\n",
       "      <td>0</td>\n",
       "      <td>0</td>\n",
       "    </tr>\n",
       "    <tr>\n",
       "      <th>...</th>\n",
       "      <td>...</td>\n",
       "      <td>...</td>\n",
       "      <td>...</td>\n",
       "      <td>...</td>\n",
       "      <td>...</td>\n",
       "      <td>...</td>\n",
       "      <td>...</td>\n",
       "    </tr>\n",
       "    <tr>\n",
       "      <th>6714</th>\n",
       "      <td>1</td>\n",
       "      <td>86</td>\n",
       "      <td>214</td>\n",
       "      <td>42</td>\n",
       "      <td>1</td>\n",
       "      <td>0</td>\n",
       "      <td>0</td>\n",
       "    </tr>\n",
       "    <tr>\n",
       "      <th>6715</th>\n",
       "      <td>1</td>\n",
       "      <td>118</td>\n",
       "      <td>416</td>\n",
       "      <td>88</td>\n",
       "      <td>2</td>\n",
       "      <td>0</td>\n",
       "      <td>0</td>\n",
       "    </tr>\n",
       "    <tr>\n",
       "      <th>6716</th>\n",
       "      <td>1</td>\n",
       "      <td>94</td>\n",
       "      <td>225</td>\n",
       "      <td>27</td>\n",
       "      <td>0</td>\n",
       "      <td>0</td>\n",
       "      <td>0</td>\n",
       "    </tr>\n",
       "    <tr>\n",
       "      <th>6717</th>\n",
       "      <td>1</td>\n",
       "      <td>63</td>\n",
       "      <td>96</td>\n",
       "      <td>4</td>\n",
       "      <td>0</td>\n",
       "      <td>0</td>\n",
       "      <td>0</td>\n",
       "    </tr>\n",
       "    <tr>\n",
       "      <th>6718</th>\n",
       "      <td>1</td>\n",
       "      <td>136</td>\n",
       "      <td>601</td>\n",
       "      <td>195</td>\n",
       "      <td>2</td>\n",
       "      <td>0</td>\n",
       "      <td>0</td>\n",
       "    </tr>\n",
       "  </tbody>\n",
       "</table>\n",
       "<p>6719 rows × 7 columns</p>\n",
       "</div>"
      ],
      "text/plain": [
       "node  0    1     2     3   4  5  6\n",
       "0     1  282  2377  1366  96  0  0\n",
       "1     1  183  1046   398  15  0  0\n",
       "2     1  269  2251  1224  51  0  0\n",
       "3     1  285  2517  1491  92  0  0\n",
       "4     1  208  1309   545  41  0  0\n",
       "...  ..  ...   ...   ...  .. .. ..\n",
       "6714  1   86   214    42   1  0  0\n",
       "6715  1  118   416    88   2  0  0\n",
       "6716  1   94   225    27   0  0  0\n",
       "6717  1   63    96     4   0  0  0\n",
       "6718  1  136   601   195   2  0  0\n",
       "\n",
       "[6719 rows x 7 columns]"
      ]
     },
     "metadata": {},
     "output_type": "display_data"
    },
    {
     "name": "stdout",
     "output_type": "stream",
     "text": [
      "\n",
      "Count node participation in undirected maximal simplices (an undirected notion of centrality)\n"
     ]
    },
    {
     "data": {
      "text/html": [
       "<div>\n",
       "<style scoped>\n",
       "    .dataframe tbody tr th:only-of-type {\n",
       "        vertical-align: middle;\n",
       "    }\n",
       "\n",
       "    .dataframe tbody tr th {\n",
       "        vertical-align: top;\n",
       "    }\n",
       "\n",
       "    .dataframe thead th {\n",
       "        text-align: right;\n",
       "    }\n",
       "</style>\n",
       "<table border=\"1\" class=\"dataframe\">\n",
       "  <thead>\n",
       "    <tr style=\"text-align: right;\">\n",
       "      <th>node</th>\n",
       "      <th>0</th>\n",
       "      <th>1</th>\n",
       "      <th>2</th>\n",
       "      <th>3</th>\n",
       "      <th>4</th>\n",
       "      <th>5</th>\n",
       "      <th>6</th>\n",
       "    </tr>\n",
       "  </thead>\n",
       "  <tbody>\n",
       "    <tr>\n",
       "      <th>0</th>\n",
       "      <td>0</td>\n",
       "      <td>0</td>\n",
       "      <td>482</td>\n",
       "      <td>1221</td>\n",
       "      <td>133</td>\n",
       "      <td>5</td>\n",
       "      <td>0</td>\n",
       "    </tr>\n",
       "    <tr>\n",
       "      <th>1</th>\n",
       "      <td>0</td>\n",
       "      <td>0</td>\n",
       "      <td>302</td>\n",
       "      <td>516</td>\n",
       "      <td>36</td>\n",
       "      <td>0</td>\n",
       "      <td>0</td>\n",
       "    </tr>\n",
       "    <tr>\n",
       "      <th>2</th>\n",
       "      <td>0</td>\n",
       "      <td>0</td>\n",
       "      <td>410</td>\n",
       "      <td>1336</td>\n",
       "      <td>120</td>\n",
       "      <td>0</td>\n",
       "      <td>0</td>\n",
       "    </tr>\n",
       "    <tr>\n",
       "      <th>3</th>\n",
       "      <td>0</td>\n",
       "      <td>0</td>\n",
       "      <td>473</td>\n",
       "      <td>1293</td>\n",
       "      <td>170</td>\n",
       "      <td>3</td>\n",
       "      <td>0</td>\n",
       "    </tr>\n",
       "    <tr>\n",
       "      <th>4</th>\n",
       "      <td>0</td>\n",
       "      <td>0</td>\n",
       "      <td>427</td>\n",
       "      <td>509</td>\n",
       "      <td>54</td>\n",
       "      <td>0</td>\n",
       "      <td>0</td>\n",
       "    </tr>\n",
       "    <tr>\n",
       "      <th>...</th>\n",
       "      <td>...</td>\n",
       "      <td>...</td>\n",
       "      <td>...</td>\n",
       "      <td>...</td>\n",
       "      <td>...</td>\n",
       "      <td>...</td>\n",
       "      <td>...</td>\n",
       "    </tr>\n",
       "    <tr>\n",
       "      <th>6714</th>\n",
       "      <td>0</td>\n",
       "      <td>2</td>\n",
       "      <td>128</td>\n",
       "      <td>54</td>\n",
       "      <td>2</td>\n",
       "      <td>0</td>\n",
       "      <td>0</td>\n",
       "    </tr>\n",
       "    <tr>\n",
       "      <th>6715</th>\n",
       "      <td>0</td>\n",
       "      <td>0</td>\n",
       "      <td>219</td>\n",
       "      <td>146</td>\n",
       "      <td>8</td>\n",
       "      <td>0</td>\n",
       "      <td>0</td>\n",
       "    </tr>\n",
       "    <tr>\n",
       "      <th>6716</th>\n",
       "      <td>0</td>\n",
       "      <td>3</td>\n",
       "      <td>152</td>\n",
       "      <td>39</td>\n",
       "      <td>0</td>\n",
       "      <td>0</td>\n",
       "      <td>0</td>\n",
       "    </tr>\n",
       "    <tr>\n",
       "      <th>6717</th>\n",
       "      <td>0</td>\n",
       "      <td>2</td>\n",
       "      <td>97</td>\n",
       "      <td>10</td>\n",
       "      <td>0</td>\n",
       "      <td>0</td>\n",
       "      <td>0</td>\n",
       "    </tr>\n",
       "    <tr>\n",
       "      <th>6718</th>\n",
       "      <td>0</td>\n",
       "      <td>5</td>\n",
       "      <td>188</td>\n",
       "      <td>273</td>\n",
       "      <td>9</td>\n",
       "      <td>0</td>\n",
       "      <td>0</td>\n",
       "    </tr>\n",
       "  </tbody>\n",
       "</table>\n",
       "<p>6719 rows × 7 columns</p>\n",
       "</div>"
      ],
      "text/plain": [
       "node  0  1    2     3    4  5  6\n",
       "0     0  0  482  1221  133  5  0\n",
       "1     0  0  302   516   36  0  0\n",
       "2     0  0  410  1336  120  0  0\n",
       "3     0  0  473  1293  170  3  0\n",
       "4     0  0  427   509   54  0  0\n",
       "...  .. ..  ...   ...  ... .. ..\n",
       "6714  0  2  128    54    2  0  0\n",
       "6715  0  0  219   146    8  0  0\n",
       "6716  0  3  152    39    0  0  0\n",
       "6717  0  2   97    10    0  0  0\n",
       "6718  0  5  188   273    9  0  0\n",
       "\n",
       "[6719 rows x 7 columns]"
      ]
     },
     "metadata": {},
     "output_type": "display_data"
    },
    {
     "name": "stdout",
     "output_type": "stream",
     "text": [
      "\n",
      "Count node participation in reciprocal simplices (a bidirectional notion of centrality)\n"
     ]
    },
    {
     "data": {
      "text/html": [
       "<div>\n",
       "<style scoped>\n",
       "    .dataframe tbody tr th:only-of-type {\n",
       "        vertical-align: middle;\n",
       "    }\n",
       "\n",
       "    .dataframe tbody tr th {\n",
       "        vertical-align: top;\n",
       "    }\n",
       "\n",
       "    .dataframe thead th {\n",
       "        text-align: right;\n",
       "    }\n",
       "</style>\n",
       "<table border=\"1\" class=\"dataframe\">\n",
       "  <thead>\n",
       "    <tr style=\"text-align: right;\">\n",
       "      <th>node</th>\n",
       "      <th>0</th>\n",
       "      <th>1</th>\n",
       "      <th>2</th>\n",
       "      <th>3</th>\n",
       "    </tr>\n",
       "  </thead>\n",
       "  <tbody>\n",
       "    <tr>\n",
       "      <th>0</th>\n",
       "      <td>1</td>\n",
       "      <td>4</td>\n",
       "      <td>1</td>\n",
       "      <td>0</td>\n",
       "    </tr>\n",
       "    <tr>\n",
       "      <th>1</th>\n",
       "      <td>1</td>\n",
       "      <td>2</td>\n",
       "      <td>0</td>\n",
       "      <td>0</td>\n",
       "    </tr>\n",
       "    <tr>\n",
       "      <th>2</th>\n",
       "      <td>1</td>\n",
       "      <td>2</td>\n",
       "      <td>0</td>\n",
       "      <td>0</td>\n",
       "    </tr>\n",
       "    <tr>\n",
       "      <th>3</th>\n",
       "      <td>1</td>\n",
       "      <td>4</td>\n",
       "      <td>0</td>\n",
       "      <td>0</td>\n",
       "    </tr>\n",
       "    <tr>\n",
       "      <th>4</th>\n",
       "      <td>1</td>\n",
       "      <td>0</td>\n",
       "      <td>0</td>\n",
       "      <td>0</td>\n",
       "    </tr>\n",
       "    <tr>\n",
       "      <th>...</th>\n",
       "      <td>...</td>\n",
       "      <td>...</td>\n",
       "      <td>...</td>\n",
       "      <td>...</td>\n",
       "    </tr>\n",
       "    <tr>\n",
       "      <th>6714</th>\n",
       "      <td>1</td>\n",
       "      <td>0</td>\n",
       "      <td>0</td>\n",
       "      <td>0</td>\n",
       "    </tr>\n",
       "    <tr>\n",
       "      <th>6715</th>\n",
       "      <td>1</td>\n",
       "      <td>0</td>\n",
       "      <td>0</td>\n",
       "      <td>0</td>\n",
       "    </tr>\n",
       "    <tr>\n",
       "      <th>6716</th>\n",
       "      <td>1</td>\n",
       "      <td>1</td>\n",
       "      <td>0</td>\n",
       "      <td>0</td>\n",
       "    </tr>\n",
       "    <tr>\n",
       "      <th>6717</th>\n",
       "      <td>1</td>\n",
       "      <td>0</td>\n",
       "      <td>0</td>\n",
       "      <td>0</td>\n",
       "    </tr>\n",
       "    <tr>\n",
       "      <th>6718</th>\n",
       "      <td>1</td>\n",
       "      <td>4</td>\n",
       "      <td>0</td>\n",
       "      <td>0</td>\n",
       "    </tr>\n",
       "  </tbody>\n",
       "</table>\n",
       "<p>6719 rows × 4 columns</p>\n",
       "</div>"
      ],
      "text/plain": [
       "node  0  1  2  3\n",
       "0     1  4  1  0\n",
       "1     1  2  0  0\n",
       "2     1  2  0  0\n",
       "3     1  4  0  0\n",
       "4     1  0  0  0\n",
       "...  .. .. .. ..\n",
       "6714  1  0  0  0\n",
       "6715  1  0  0  0\n",
       "6716  1  1  0  0\n",
       "6717  1  0  0  0\n",
       "6718  1  4  0  0\n",
       "\n",
       "[6719 rows x 4 columns]"
      ]
     },
     "metadata": {},
     "output_type": "display_data"
    }
   ],
   "source": [
    "print('Count node participation in directed simplices (a directed notion of centrality)')\n",
    "display(topology.node_participation(A, simplex_type='directed'))\n",
    "\n",
    "print('\\nCount node participation in undirected maximal simplices (an undirected notion of centrality)')\n",
    "display(topology.node_participation(A, max_simplices=True, simplex_type='undirected'))\n",
    "\n",
    "print('\\nCount node participation in reciprocal simplices (a bidirectional notion of centrality)')\n",
    "display(topology.node_participation(A, simplex_type='reciprocal'))\n"
   ]
  },
  {
   "cell_type": "markdown",
   "metadata": {},
   "source": [
    "# Simplex lists "
   ]
  },
  {
   "cell_type": "markdown",
   "metadata": {},
   "source": [
    "We might want to know exactly which nodes are participating in simplices and in which position of the simplex they are.  For this, we can extract simplex lists of a graph.  We can again choose the simplex type and whether we want to consider only maximal motifs or all motifs. "
   ]
  },
  {
   "cell_type": "code",
   "execution_count": 11,
   "metadata": {},
   "outputs": [
    {
     "name": "stdout",
     "output_type": "stream",
     "text": [
      "[2023-08-03 16:07:18,009] INFO: COMPUTE list of simplices by dimension\n"
     ]
    },
    {
     "data": {
      "text/plain": [
       "dim\n",
       "0    [[0], [1], [2], [3], [4], [5], [6], [7], [8], ...\n",
       "1    [[0, 4], [0, 16], [0, 21], [0, 25], [0, 27], [...\n",
       "2    [[0, 4, 37], [0, 4, 44], [0, 4, 61], [0, 4, 92...\n",
       "3    [[0, 4, 37, 95], [0, 4, 44, 92], [0, 4, 95, 92...\n",
       "4    [[0, 16, 77, 67, 25], [0, 25, 37, 65, 77], [0,...\n",
       "5    [[1, 61, 27, 97, 42, 56], [6, 63, 97, 17, 33, ...\n",
       "Name: simplices, dtype: object"
      ]
     },
     "metadata": {},
     "output_type": "display_data"
    }
   ],
   "source": [
    "# This lists can be large so we show it only in our small random example. \n",
    "simplex_type='directed' # List directed simplices.  One can change this to 'reciprocal' or 'undirected'\n",
    "max_simplices=False # List all simplices if True lists only maximal ones \n",
    "max_dim=-1 # List all dimensions\n",
    "nodes=None # List simplices with any source node\n",
    "\n",
    "display(topology.list_simplices_by_dimension(A_small, max_simplices=max_simplices,\n",
    "                                             max_dim=max_dim,nodes=nodes,\n",
    "                                             simplex_type=simplex_type))"
   ]
  },
  {
   "cell_type": "markdown",
   "metadata": {},
   "source": [
    "# Betti counts"
   ]
  },
  {
   "cell_type": "markdown",
   "metadata": {},
   "source": [
    "One might also be interested in computing the betti numbers of the resulting flag complex.  \n",
    "Different values of the key  ``simplex_type`` builds different flag complexes.  There are the following options: \n",
    "* ``directed`` - Builds the directed flag complex (default)\n",
    "* ``undirected`` - Builds the undirected flag complex of the underlying undirected graph\n",
    "* ``reciprocal``- Builds the undirected flag complex of the undirected graph of reciprocal connections\n",
    "\n",
    "This computation is expensive so we show it only in our small random example"
   ]
  },
  {
   "cell_type": "code",
   "execution_count": 12,
   "metadata": {},
   "outputs": [
    {
     "name": "stdout",
     "output_type": "stream",
     "text": [
      "[2023-08-03 16:07:18,108] INFO: Compute betti counts for <class 'scipy.sparse._coo.coo_matrix'>-type adjacency matrix and <class 'NoneType'>-type node properties\n",
      "[2023-08-03 16:07:18,119] INFO: Run without approximation\n",
      "[2023-08-03 16:07:18,183] INFO: Compute betti counts for <class 'scipy.sparse._coo.coo_matrix'>-type adjacency matrix and <class 'NoneType'>-type node properties\n",
      "[2023-08-03 16:07:18,186] INFO: Run without approximation\n",
      "[2023-08-03 16:07:18,189] INFO: Compute betti counts for <class 'scipy.sparse._coo.coo_matrix'>-type adjacency matrix and <class 'NoneType'>-type node properties\n",
      "[2023-08-03 16:07:18,193] INFO: Run without approximation\n"
     ]
    },
    {
     "data": {
      "image/png": "[encoded data removed]",
      "text/plain": [
       "<Figure size 700x500 with 1 Axes>"
      ]
     },
     "metadata": {},
     "output_type": "display_data"
    }
   ],
   "source": [
    "fig, axs = plt.subplots(figsize=(7,5))\n",
    "simplex_types=['directed', 'reciprocal', 'undirected']\n",
    "colors=['C0', 'C1','C2']\n",
    "for i, simplex_type in enumerate(simplex_types):\n",
    "    axs.plot(topology.betti_counts(A_small, approximation=None, min_dim=0, simplex_type=simplex_type), \n",
    "                marker = '*', color=f'C{i}', label=simplex_type)\n",
    "    \n",
    "axs.legend(frameon=False)\n",
    "axs.set_title(\"Betti counts\")\n",
    "axs.set_xlabel(\"Dimension\")\n",
    "axs.set_ylabel(\"Counts\")\n",
    "axs.xaxis.set_major_locator(matplotlib.ticker.MaxNLocator(integer=True))"
   ]
  },
  {
   "cell_type": "markdown",
   "metadata": {},
   "source": [
    "This is a costly non-parallelizable computation.  The rest of the inputs to the function are to restrict the computation to certain dimensions, or to approximate the betti counts"
   ]
  },
  {
   "cell_type": "code",
   "execution_count": 13,
   "metadata": {},
   "outputs": [
    {
     "name": "stdout",
     "output_type": "stream",
     "text": [
      "[2023-08-03 16:07:18,456] INFO: Compute betti counts for <class 'scipy.sparse._coo.coo_matrix'>-type adjacency matrix and <class 'NoneType'>-type node properties\n",
      "[2023-08-03 16:07:18,458] INFO: Run without approximation\n"
     ]
    },
    {
     "data": {
      "text/plain": [
       "dim\n",
       "3    280\n",
       "4      5\n",
       "5      0\n",
       "Name: betti_count, dtype: int64"
      ]
     },
     "execution_count": 13,
     "metadata": {},
     "output_type": "execute_result"
    }
   ],
   "source": [
    "topology.betti_counts(A_small, min_dim=3,approximation = None)"
   ]
  },
  {
   "cell_type": "code",
   "execution_count": 14,
   "metadata": {},
   "outputs": [
    {
     "name": "stdout",
     "output_type": "stream",
     "text": [
      "[2023-08-03 16:07:18,552] INFO: Compute betti counts for <class 'scipy.sparse._coo.coo_matrix'>-type adjacency matrix and <class 'NoneType'>-type node properties\n",
      "[2023-08-03 16:07:18,554] INFO: Run without approximation\n"
     ]
    },
    {
     "data": {
      "text/plain": [
       "dim\n",
       "1      0\n",
       "2    956\n",
       "3    280\n",
       "4      5\n",
       "5      0\n",
       "Name: betti_count, dtype: int64"
      ]
     },
     "execution_count": 14,
     "metadata": {},
     "output_type": "execute_result"
    }
   ],
   "source": [
    "topology.betti_counts(A_small, min_dim=1,approximation = None)"
   ]
  },
  {
   "cell_type": "code",
   "execution_count": 15,
   "metadata": {},
   "outputs": [
    {
     "name": "stdout",
     "output_type": "stream",
     "text": [
      "[2023-08-03 16:07:18,634] INFO: Compute betti counts for <class 'scipy.sparse._coo.coo_matrix'>-type adjacency matrix and <class 'NoneType'>-type node properties\n",
      "[2023-08-03 16:07:18,636] INFO: Run betti for dim range 0-2 with approximation 1\n",
      "[2023-08-03 16:07:18,675] INFO: Run betti for dim range 3-inf with approximation None\n"
     ]
    },
    {
     "data": {
      "text/plain": [
       "dim\n",
       "0      1\n",
       "1      0\n",
       "2    506\n",
       "3    280\n",
       "4      5\n",
       "5      0\n",
       "Name: betti_count, dtype: int64"
      ]
     },
     "execution_count": 15,
     "metadata": {},
     "output_type": "execute_result"
    }
   ],
   "source": [
    "topology.betti_counts(A_small, approximation=[1,1,1], min_dim=0)"
   ]
  },
  {
   "cell_type": "code",
   "execution_count": 16,
   "metadata": {},
   "outputs": [
    {
     "name": "stdout",
     "output_type": "stream",
     "text": [
      "[2023-08-03 16:07:18,761] INFO: Compute betti counts for <class 'scipy.sparse._coo.coo_matrix'>-type adjacency matrix and <class 'NoneType'>-type node properties\n",
      "[2023-08-03 16:07:18,763] INFO: Run betti for dim range 0-2 with approximation 100\n",
      "[2023-08-03 16:07:18,803] INFO: Run betti for dim range 3-inf with approximation None\n"
     ]
    },
    {
     "data": {
      "text/plain": [
       "dim\n",
       "0      1\n",
       "1      0\n",
       "2    841\n",
       "3    280\n",
       "4      5\n",
       "5      0\n",
       "Name: betti_count, dtype: int64"
      ]
     },
     "execution_count": 16,
     "metadata": {},
     "output_type": "execute_result"
    }
   ],
   "source": [
    "topology.betti_counts(A_small, approximation=[100,100,100], min_dim=0)"
   ]
  },
  {
   "cell_type": "code",
   "execution_count": 17,
   "metadata": {},
   "outputs": [
    {
     "name": "stdout",
     "output_type": "stream",
     "text": [
      "[2023-08-03 16:07:18,889] INFO: Compute betti counts for <class 'scipy.sparse._coo.coo_matrix'>-type adjacency matrix and <class 'NoneType'>-type node properties\n",
      "[2023-08-03 16:07:18,891] INFO: Run betti for dim range 0-2 with approximation None\n",
      "[2023-08-03 16:07:18,948] INFO: Run betti for dim range 3-5 with approximation 1\n",
      "[2023-08-03 16:07:18,991] INFO: Run betti for dim range 6-inf with approximation None\n"
     ]
    },
    {
     "data": {
      "text/plain": [
       "dim\n",
       "0       1\n",
       "1       0\n",
       "2     956\n",
       "3    2038\n",
       "4     126\n",
       "5       0\n",
       "Name: betti_count, dtype: int64"
      ]
     },
     "execution_count": 17,
     "metadata": {},
     "output_type": "execute_result"
    }
   ],
   "source": [
    "topology.betti_counts(A_small, approximation=[-1,-1,-1,1,1,1], min_dim=0)"
   ]
  },
  {
   "cell_type": "markdown",
   "metadata": {},
   "source": [
    "# Simplicial skeleta"
   ]
  },
  {
   "cell_type": "markdown",
   "metadata": {},
   "source": [
    "We may want to focus on the subgraph on the edges that participate in (maximal) simplices of a certain dimesion.  We might want to look at all edges in simplices, or just those that belong to the spine of simplices i.e., edges that go from $i$ to $i+1$ in the simplex. \n",
    "\n",
    "Warning!  The skeleton of a flag complex is not a flag complex.  That is, if we first restrict to the skeleton graph and then recompute the simplex lists on that dimension, we will NOT recover the original simplex lists. \n",
    "\n",
    "We can do this by using the following function and either passing a list of simplices or a graph in which the simplices will first be computed as a dictonary indexed by the dimension to consider.  Since simplex lists can be big we show this is our small random example."
   ]
  },
  {
   "cell_type": "code",
   "execution_count": 18,
   "metadata": {},
   "outputs": [
    {
     "name": "stdout",
     "output_type": "stream",
     "text": [
      "[2023-08-03 16:07:19,012] INFO: COMPUTE list of max-simplices by dimension\n",
      "\n",
      "The original graph has 1979 edges. Of these:\n",
      "\n",
      "* 897 are in maximal 2-simplices and \n",
      "* 716 are in the spine of maximal 2-simplices. \n"
     ]
    }
   ],
   "source": [
    "# Using simplex lists directly \n",
    "s2=topology.list_simplices_by_dimension(A_small, max_dim=2, max_simplices=True).loc[2:2]\n",
    "sk2=topology.get_k_skeleta_graph(simplex_list=s2, position=\"all\", N=100)\n",
    "sk2sp=topology.get_k_skeleta_graph(simplex_list=s2, position=\"spine\", N=100)\n",
    "\n",
    "print(f\"\"\"\\nThe original graph has {A_small.sum()} edges. Of these:\\n\n",
    "* {sk2['dimension_2'].sum()} are in maximal 2-simplices and \n",
    "* {sk2sp['dimension_2'].sum()} are in the spine of maximal 2-simplices. \"\"\")"
   ]
  },
  {
   "cell_type": "code",
   "execution_count": 19,
   "metadata": {},
   "outputs": [
    {
     "name": "stdout",
     "output_type": "stream",
     "text": [
      "[2023-08-03 16:07:19,028] INFO: COMPUTE list of simplices by dimension\n"
     ]
    },
    {
     "data": {
      "text/plain": [
       "{'dimension_2': <100x100 sparse matrix of type '<class 'numpy.bool_'>'\n",
       " \twith 1979 stored elements in Compressed Sparse Row format>}"
      ]
     },
     "execution_count": 19,
     "metadata": {},
     "output_type": "execute_result"
    }
   ],
   "source": [
    "# Passing the graph directly and computing for a single dimension  \n",
    "topology.get_k_skeleta_graph(A_small,max_simplices=False,dimensions=2,\n",
    "                             simplex_type='directed',simplex_list=None,N=None, position=\"all\")"
   ]
  },
  {
   "cell_type": "code",
   "execution_count": 20,
   "metadata": {},
   "outputs": [
    {
     "name": "stdout",
     "output_type": "stream",
     "text": [
      "[2023-08-03 16:07:19,063] INFO: COMPUTE list of simplices by dimension\n"
     ]
    },
    {
     "data": {
      "text/plain": [
       "{'dimension_1': <100x100 sparse matrix of type '<class 'numpy.bool_'>'\n",
       " \twith 1979 stored elements in Compressed Sparse Row format>,\n",
       " 'dimension_4': <100x100 sparse matrix of type '<class 'numpy.bool_'>'\n",
       " \twith 1461 stored elements in Compressed Sparse Row format>}"
      ]
     },
     "execution_count": 20,
     "metadata": {},
     "output_type": "execute_result"
    }
   ],
   "source": [
    "# Passing the graph directly and computing for a set of dimensions   \n",
    "topology.get_k_skeleta_graph(A_small,max_simplices=False,dimensions=[1,4,6],simplex_type='directed',\n",
    "              simplex_list=None,N=100, position=\"all\")\n"
   ]
  },
  {
   "cell_type": "markdown",
   "metadata": {},
   "source": [
    "### Reciprocity within the skeleton"
   ]
  },
  {
   "cell_type": "markdown",
   "metadata": {},
   "source": [
    "To understan how reciprocal connections inteact with the simplicial skeleton we can see how the percetage of reciprocal connections in the skeleton is changing across dimensions.  We can do this with the following command."
   ]
  },
  {
   "cell_type": "code",
   "execution_count": 21,
   "metadata": {},
   "outputs": [
    {
     "name": "stdout",
     "output_type": "stream",
     "text": [
      "[2023-08-03 16:07:19,097] INFO: COMPUTE list of max-simplices by dimension\n",
      "Index([1, 2, 3], dtype='int64', name='dim')\n"
     ]
    },
    {
     "data": {
      "text/html": [
       "<div>\n",
       "<style scoped>\n",
       "    .dataframe tbody tr th:only-of-type {\n",
       "        vertical-align: middle;\n",
       "    }\n",
       "\n",
       "    .dataframe tbody tr th {\n",
       "        vertical-align: top;\n",
       "    }\n",
       "\n",
       "    .dataframe thead th {\n",
       "        text-align: right;\n",
       "    }\n",
       "</style>\n",
       "<table border=\"1\" class=\"dataframe\">\n",
       "  <thead>\n",
       "    <tr style=\"text-align: right;\">\n",
       "      <th></th>\n",
       "      <th>number_of_edges</th>\n",
       "      <th>number_of_rc_edges</th>\n",
       "      <th>rc/edges_percent</th>\n",
       "    </tr>\n",
       "    <tr>\n",
       "      <th>dim</th>\n",
       "      <th></th>\n",
       "      <th></th>\n",
       "      <th></th>\n",
       "    </tr>\n",
       "  </thead>\n",
       "  <tbody>\n",
       "    <tr>\n",
       "      <th>1</th>\n",
       "      <td>0</td>\n",
       "      <td>NaN</td>\n",
       "      <td>NaN</td>\n",
       "    </tr>\n",
       "    <tr>\n",
       "      <th>2</th>\n",
       "      <td>897</td>\n",
       "      <td>130</td>\n",
       "      <td>14.492754</td>\n",
       "    </tr>\n",
       "    <tr>\n",
       "      <th>3</th>\n",
       "      <td>1950</td>\n",
       "      <td>384</td>\n",
       "      <td>19.692308</td>\n",
       "    </tr>\n",
       "  </tbody>\n",
       "</table>\n",
       "</div>"
      ],
      "text/plain": [
       "    number_of_edges number_of_rc_edges rc/edges_percent\n",
       "dim                                                    \n",
       "1                 0                NaN              NaN\n",
       "2               897                130        14.492754\n",
       "3              1950                384        19.692308"
      ]
     },
     "execution_count": 21,
     "metadata": {},
     "output_type": "execute_result"
    }
   ],
   "source": [
    "topology.count_rc_edges_skeleta(A_small, position=\"all\", max_dim=3, max_simplices=True)"
   ]
  },
  {
   "cell_type": "code",
   "execution_count": 22,
   "metadata": {},
   "outputs": [
    {
     "name": "stdout",
     "output_type": "stream",
     "text": [
      "[2023-08-03 16:07:19,134] INFO: COMPUTE list of max-simplices by dimension\n",
      "Index([1, 2, 3, 4, 5], dtype='int64', name='dim')\n"
     ]
    },
    {
     "data": {
      "text/html": [
       "<div>\n",
       "<style scoped>\n",
       "    .dataframe tbody tr th:only-of-type {\n",
       "        vertical-align: middle;\n",
       "    }\n",
       "\n",
       "    .dataframe tbody tr th {\n",
       "        vertical-align: top;\n",
       "    }\n",
       "\n",
       "    .dataframe thead th {\n",
       "        text-align: right;\n",
       "    }\n",
       "</style>\n",
       "<table border=\"1\" class=\"dataframe\">\n",
       "  <thead>\n",
       "    <tr style=\"text-align: right;\">\n",
       "      <th></th>\n",
       "      <th>number_of_edges</th>\n",
       "      <th>number_of_rc_edges</th>\n",
       "      <th>rc/edges_percent</th>\n",
       "    </tr>\n",
       "    <tr>\n",
       "      <th>dim</th>\n",
       "      <th></th>\n",
       "      <th></th>\n",
       "      <th></th>\n",
       "    </tr>\n",
       "  </thead>\n",
       "  <tbody>\n",
       "    <tr>\n",
       "      <th>1</th>\n",
       "      <td>0</td>\n",
       "      <td>NaN</td>\n",
       "      <td>NaN</td>\n",
       "    </tr>\n",
       "    <tr>\n",
       "      <th>2</th>\n",
       "      <td>716</td>\n",
       "      <td>120</td>\n",
       "      <td>16.759777</td>\n",
       "    </tr>\n",
       "    <tr>\n",
       "      <th>3</th>\n",
       "      <td>1832</td>\n",
       "      <td>350</td>\n",
       "      <td>19.104803</td>\n",
       "    </tr>\n",
       "    <tr>\n",
       "      <th>4</th>\n",
       "      <td>1054</td>\n",
       "      <td>212</td>\n",
       "      <td>20.113852</td>\n",
       "    </tr>\n",
       "    <tr>\n",
       "      <th>5</th>\n",
       "      <td>157</td>\n",
       "      <td>30</td>\n",
       "      <td>19.10828</td>\n",
       "    </tr>\n",
       "  </tbody>\n",
       "</table>\n",
       "</div>"
      ],
      "text/plain": [
       "    number_of_edges number_of_rc_edges rc/edges_percent\n",
       "dim                                                    \n",
       "1                 0                NaN              NaN\n",
       "2               716                120        16.759777\n",
       "3              1832                350        19.104803\n",
       "4              1054                212        20.113852\n",
       "5               157                 30         19.10828"
      ]
     },
     "execution_count": 22,
     "metadata": {},
     "output_type": "execute_result"
    }
   ],
   "source": [
    "topology.count_rc_edges_skeleta(A_small, position=\"spine\", max_simplices=True)"
   ]
  },
  {
   "cell_type": "code",
   "execution_count": null,
   "metadata": {},
   "outputs": [],
   "source": []
  }
 ],
 "metadata": {
  "kernelspec": {
   "display_name": "Python 3 (ipykernel)",
   "language": "python",
   "name": "python3"
  },
  "language_info": {
   "codemirror_mode": {
    "name": "ipython",
    "version": 3
   },
   "file_extension": ".py",
   "mimetype": "text/x-python",
   "name": "python",
   "nbconvert_exporter": "python",
   "pygments_lexer": "ipython3",
   "version": "3.8.3"
  }
 },
 "nbformat": 4,
 "nbformat_minor": 4
}
